{
 "cells": [
  {
   "cell_type": "markdown",
   "id": "c707a426-6da3-4132-a596-ad2a547d50bd",
   "metadata": {},
   "source": [
    "# Project"
   ]
  },
  {
   "cell_type": "markdown",
   "id": "07298a4d-5d2f-44a8-850d-407c8e71ba0a",
   "metadata": {},
   "source": [
    "Sentiment Analysis and Topic modeling for the hotel industry in the most popular cities in the world."
   ]
  },
  {
   "cell_type": "markdown",
   "id": "0384f66f-ed72-483d-9d36-014879e78ae1",
   "metadata": {},
   "source": [
    "### 1. Installing libraries"
   ]
  },
  {
   "cell_type": "code",
   "execution_count": 50,
   "id": "7c6c6b89-ea54-49c6-8f23-dd34b0a6dc41",
   "metadata": {},
   "outputs": [
    {
     "name": "stdout",
     "output_type": "stream",
     "text": [
      "The history saving thread hit an unexpected error (OperationalError('attempt to write a readonly database')).History will not be written to the database.\n"
     ]
    },
    {
     "name": "stderr",
     "output_type": "stream",
     "text": [
      "huggingface/tokenizers: The current process just got forked, after parallelism has already been used. Disabling parallelism to avoid deadlocks...\n",
      "To disable this warning, you can either:\n",
      "\t- Avoid using `tokenizers` before the fork if possible\n",
      "\t- Explicitly set the environment variable TOKENIZERS_PARALLELISM=(true | false)\n"
     ]
    },
    {
     "name": "stdout",
     "output_type": "stream",
     "text": [
      "Requirement already satisfied: vaderSentiment in /opt/anaconda3/envs/DataAnalytics/lib/python3.12/site-packages (3.3.2)\n",
      "Requirement already satisfied: requests in /opt/anaconda3/envs/DataAnalytics/lib/python3.12/site-packages (from vaderSentiment) (2.32.3)\n",
      "Requirement already satisfied: charset-normalizer<4,>=2 in /opt/anaconda3/envs/DataAnalytics/lib/python3.12/site-packages (from requests->vaderSentiment) (3.4.1)\n",
      "Requirement already satisfied: idna<4,>=2.5 in /opt/anaconda3/envs/DataAnalytics/lib/python3.12/site-packages (from requests->vaderSentiment) (3.10)\n",
      "Requirement already satisfied: urllib3<3,>=1.21.1 in /opt/anaconda3/envs/DataAnalytics/lib/python3.12/site-packages (from requests->vaderSentiment) (2.3.0)\n",
      "Requirement already satisfied: certifi>=2017.4.17 in /opt/anaconda3/envs/DataAnalytics/lib/python3.12/site-packages (from requests->vaderSentiment) (2024.12.14)\n",
      "Note: you may need to restart the kernel to use updated packages.\n"
     ]
    }
   ],
   "source": [
    "pip install vaderSentiment"
   ]
  },
  {
   "cell_type": "code",
   "execution_count": 51,
   "id": "97a9a8c4-87d7-40ca-a688-375eb9e57510",
   "metadata": {},
   "outputs": [
    {
     "name": "stderr",
     "output_type": "stream",
     "text": [
      "huggingface/tokenizers: The current process just got forked, after parallelism has already been used. Disabling parallelism to avoid deadlocks...\n",
      "To disable this warning, you can either:\n",
      "\t- Avoid using `tokenizers` before the fork if possible\n",
      "\t- Explicitly set the environment variable TOKENIZERS_PARALLELISM=(true | false)\n"
     ]
    },
    {
     "name": "stdout",
     "output_type": "stream",
     "text": [
      "Requirement already satisfied: scikit-learn in /opt/anaconda3/envs/DataAnalytics/lib/python3.12/site-packages (1.6.1)\n",
      "Requirement already satisfied: numpy>=1.19.5 in /opt/anaconda3/envs/DataAnalytics/lib/python3.12/site-packages (from scikit-learn) (2.2.4)\n",
      "Requirement already satisfied: scipy>=1.6.0 in /opt/anaconda3/envs/DataAnalytics/lib/python3.12/site-packages (from scikit-learn) (1.15.2)\n",
      "Requirement already satisfied: joblib>=1.2.0 in /opt/anaconda3/envs/DataAnalytics/lib/python3.12/site-packages (from scikit-learn) (1.4.2)\n",
      "Requirement already satisfied: threadpoolctl>=3.1.0 in /opt/anaconda3/envs/DataAnalytics/lib/python3.12/site-packages (from scikit-learn) (3.6.0)\n",
      "Note: you may need to restart the kernel to use updated packages.\n"
     ]
    }
   ],
   "source": [
    "pip install scikit-learn"
   ]
  },
  {
   "cell_type": "code",
   "execution_count": 52,
   "id": "0b53464a-e0e3-4c9d-b5ba-31f905b0d056",
   "metadata": {},
   "outputs": [
    {
     "name": "stderr",
     "output_type": "stream",
     "text": [
      "huggingface/tokenizers: The current process just got forked, after parallelism has already been used. Disabling parallelism to avoid deadlocks...\n",
      "To disable this warning, you can either:\n",
      "\t- Avoid using `tokenizers` before the fork if possible\n",
      "\t- Explicitly set the environment variable TOKENIZERS_PARALLELISM=(true | false)\n"
     ]
    },
    {
     "name": "stdout",
     "output_type": "stream",
     "text": [
      "Requirement already satisfied: torch in /opt/anaconda3/envs/DataAnalytics/lib/python3.12/site-packages (2.6.0)\n",
      "Requirement already satisfied: filelock in /opt/anaconda3/envs/DataAnalytics/lib/python3.12/site-packages (from torch) (3.18.0)\n",
      "Requirement already satisfied: typing-extensions>=4.10.0 in /opt/anaconda3/envs/DataAnalytics/lib/python3.12/site-packages (from torch) (4.12.2)\n",
      "Requirement already satisfied: networkx in /opt/anaconda3/envs/DataAnalytics/lib/python3.12/site-packages (from torch) (3.4.2)\n",
      "Requirement already satisfied: jinja2 in /opt/anaconda3/envs/DataAnalytics/lib/python3.12/site-packages (from torch) (3.1.5)\n",
      "Requirement already satisfied: fsspec in /opt/anaconda3/envs/DataAnalytics/lib/python3.12/site-packages (from torch) (2025.3.2)\n",
      "Requirement already satisfied: setuptools in /opt/anaconda3/envs/DataAnalytics/lib/python3.12/site-packages (from torch) (75.1.0)\n",
      "Requirement already satisfied: sympy==1.13.1 in /opt/anaconda3/envs/DataAnalytics/lib/python3.12/site-packages (from torch) (1.13.1)\n",
      "Requirement already satisfied: mpmath<1.4,>=1.1.0 in /opt/anaconda3/envs/DataAnalytics/lib/python3.12/site-packages (from sympy==1.13.1->torch) (1.3.0)\n",
      "Requirement already satisfied: MarkupSafe>=2.0 in /opt/anaconda3/envs/DataAnalytics/lib/python3.12/site-packages (from jinja2->torch) (3.0.2)\n",
      "Note: you may need to restart the kernel to use updated packages.\n"
     ]
    }
   ],
   "source": [
    "pip install torch"
   ]
  },
  {
   "cell_type": "code",
   "execution_count": 53,
   "id": "f8fe98f4-996d-4d79-8eb3-0257543809b0",
   "metadata": {},
   "outputs": [
    {
     "name": "stderr",
     "output_type": "stream",
     "text": [
      "huggingface/tokenizers: The current process just got forked, after parallelism has already been used. Disabling parallelism to avoid deadlocks...\n",
      "To disable this warning, you can either:\n",
      "\t- Avoid using `tokenizers` before the fork if possible\n",
      "\t- Explicitly set the environment variable TOKENIZERS_PARALLELISM=(true | false)\n"
     ]
    },
    {
     "name": "stdout",
     "output_type": "stream",
     "text": [
      "Requirement already satisfied: transformers in /opt/anaconda3/envs/DataAnalytics/lib/python3.12/site-packages (4.51.1)\n",
      "Requirement already satisfied: filelock in /opt/anaconda3/envs/DataAnalytics/lib/python3.12/site-packages (from transformers) (3.18.0)\n",
      "Requirement already satisfied: huggingface-hub<1.0,>=0.30.0 in /opt/anaconda3/envs/DataAnalytics/lib/python3.12/site-packages (from transformers) (0.30.2)\n",
      "Requirement already satisfied: numpy>=1.17 in /opt/anaconda3/envs/DataAnalytics/lib/python3.12/site-packages (from transformers) (2.2.4)\n",
      "Requirement already satisfied: packaging>=20.0 in /opt/anaconda3/envs/DataAnalytics/lib/python3.12/site-packages (from transformers) (24.2)\n",
      "Requirement already satisfied: pyyaml>=5.1 in /opt/anaconda3/envs/DataAnalytics/lib/python3.12/site-packages (from transformers) (6.0.2)\n",
      "Requirement already satisfied: regex!=2019.12.17 in /opt/anaconda3/envs/DataAnalytics/lib/python3.12/site-packages (from transformers) (2024.11.6)\n",
      "Requirement already satisfied: requests in /opt/anaconda3/envs/DataAnalytics/lib/python3.12/site-packages (from transformers) (2.32.3)\n",
      "Requirement already satisfied: tokenizers<0.22,>=0.21 in /opt/anaconda3/envs/DataAnalytics/lib/python3.12/site-packages (from transformers) (0.21.1)\n",
      "Requirement already satisfied: safetensors>=0.4.3 in /opt/anaconda3/envs/DataAnalytics/lib/python3.12/site-packages (from transformers) (0.5.3)\n",
      "Requirement already satisfied: tqdm>=4.27 in /opt/anaconda3/envs/DataAnalytics/lib/python3.12/site-packages (from transformers) (4.67.1)\n",
      "Requirement already satisfied: fsspec>=2023.5.0 in /opt/anaconda3/envs/DataAnalytics/lib/python3.12/site-packages (from huggingface-hub<1.0,>=0.30.0->transformers) (2025.3.2)\n",
      "Requirement already satisfied: typing-extensions>=3.7.4.3 in /opt/anaconda3/envs/DataAnalytics/lib/python3.12/site-packages (from huggingface-hub<1.0,>=0.30.0->transformers) (4.12.2)\n",
      "Requirement already satisfied: charset-normalizer<4,>=2 in /opt/anaconda3/envs/DataAnalytics/lib/python3.12/site-packages (from requests->transformers) (3.4.1)\n",
      "Requirement already satisfied: idna<4,>=2.5 in /opt/anaconda3/envs/DataAnalytics/lib/python3.12/site-packages (from requests->transformers) (3.10)\n",
      "Requirement already satisfied: urllib3<3,>=1.21.1 in /opt/anaconda3/envs/DataAnalytics/lib/python3.12/site-packages (from requests->transformers) (2.3.0)\n",
      "Requirement already satisfied: certifi>=2017.4.17 in /opt/anaconda3/envs/DataAnalytics/lib/python3.12/site-packages (from requests->transformers) (2024.12.14)\n",
      "Note: you may need to restart the kernel to use updated packages.\n"
     ]
    }
   ],
   "source": [
    "pip install transformers"
   ]
  },
  {
   "cell_type": "code",
   "execution_count": 54,
   "id": "18903d9b-3038-4256-8695-d56a346d4304",
   "metadata": {},
   "outputs": [
    {
     "name": "stderr",
     "output_type": "stream",
     "text": [
      "huggingface/tokenizers: The current process just got forked, after parallelism has already been used. Disabling parallelism to avoid deadlocks...\n",
      "To disable this warning, you can either:\n",
      "\t- Avoid using `tokenizers` before the fork if possible\n",
      "\t- Explicitly set the environment variable TOKENIZERS_PARALLELISM=(true | false)\n"
     ]
    },
    {
     "name": "stdout",
     "output_type": "stream",
     "text": [
      "Requirement already satisfied: tqdm in /opt/anaconda3/envs/DataAnalytics/lib/python3.12/site-packages (4.67.1)\n",
      "Note: you may need to restart the kernel to use updated packages.\n"
     ]
    }
   ],
   "source": [
    "pip install tqdm"
   ]
  },
  {
   "cell_type": "markdown",
   "id": "64d51d60-f12d-4a15-9d4a-fa33a9e87cc4",
   "metadata": {},
   "source": [
    "### 2. Import libraries"
   ]
  },
  {
   "cell_type": "code",
   "execution_count": 6,
   "id": "1ed303d1-26f3-4f6c-aa79-a15f6cc3ca46",
   "metadata": {},
   "outputs": [],
   "source": [
    "import numpy as np\n",
    "import pandas as pd"
   ]
  },
  {
   "cell_type": "code",
   "execution_count": 7,
   "id": "7851d863-65de-4f2b-9561-cc94a37ae65e",
   "metadata": {},
   "outputs": [],
   "source": [
    "# sklearn\n",
    "from sklearn import model_selection\n",
    "from sklearn.feature_extraction.text import CountVectorizer,TfidfVectorizer\n",
    "from sklearn.linear_model import LogisticRegression\n",
    "from sklearn import preprocessing, decomposition, model_selection, metrics, pipeline\n",
    "from sklearn.model_selection import GridSearchCV,StratifiedKFold,RandomizedSearchCV\n",
    "from sklearn.decomposition import LatentDirichletAllocation"
   ]
  },
  {
   "cell_type": "code",
   "execution_count": 10,
   "id": "64a548f5-7563-406c-aa0b-94d11cfcc41c",
   "metadata": {},
   "outputs": [],
   "source": [
    "# nltk\n",
    "import nltk\n",
    "from nltk.stem import WordNetLemmatizer\n",
    "from nltk.corpus import stopwords"
   ]
  },
  {
   "cell_type": "code",
   "execution_count": 11,
   "id": "1c8623d3-7220-4998-afcf-b4af2be2ac18",
   "metadata": {},
   "outputs": [],
   "source": [
    "import torch\n",
    "from transformers import AutoTokenizer, AutoModelForSequenceClassification\n",
    "from scipy.special import softmax"
   ]
  },
  {
   "cell_type": "code",
   "execution_count": 12,
   "id": "15492280-023d-48bb-8cf5-449a712f9861",
   "metadata": {},
   "outputs": [],
   "source": [
    "# matplotlib and seaborn for plotting\n",
    "import matplotlib.pyplot as plt\n",
    "import seaborn as sns\n",
    "import plotly.express as px"
   ]
  },
  {
   "cell_type": "code",
   "execution_count": 13,
   "id": "d44a4cbc-a736-4070-add6-46df06bbd7ab",
   "metadata": {},
   "outputs": [],
   "source": [
    "#import imageio\n",
    "from wordcloud import WordCloud, STOPWORDS"
   ]
  },
  {
   "cell_type": "code",
   "execution_count": 14,
   "id": "c57d04ac-8d82-46bf-b3de-94c5c775bab7",
   "metadata": {},
   "outputs": [],
   "source": [
    "# Other imports\n",
    "from collections import Counter\n",
    "import requests\n",
    "import re\n",
    "import string\n",
    "import tqdm as notebook_tqdm"
   ]
  },
  {
   "cell_type": "code",
   "execution_count": 15,
   "id": "8379b12b-88e1-44bb-908d-6b43c33eed91",
   "metadata": {},
   "outputs": [],
   "source": [
    "# Suppress warnings\n",
    "import warnings\n",
    "warnings.filterwarnings('ignore')"
   ]
  },
  {
   "cell_type": "markdown",
   "id": "be25d907-2c4a-4e6a-9023-d17b27999622",
   "metadata": {},
   "source": [
    "### 3. Clean Data"
   ]
  },
  {
   "cell_type": "code",
   "execution_count": 16,
   "id": "ebf05e23-16d3-4c4b-b834-65aa403fb16a",
   "metadata": {},
   "outputs": [],
   "source": [
    "full_path = './hotels_reviews.csv'"
   ]
  },
  {
   "cell_type": "code",
   "execution_count": 17,
   "id": "62e143eb-4262-43c9-8ddd-c22b294af7b6",
   "metadata": {},
   "outputs": [],
   "source": [
    "data = pd.read_csv(full_path)"
   ]
  },
  {
   "cell_type": "code",
   "execution_count": 18,
   "id": "bea40ca1-705f-4728-b9d9-d3e85adf006a",
   "metadata": {},
   "outputs": [
    {
     "name": "stdout",
     "output_type": "stream",
     "text": [
      "<class 'pandas.core.frame.DataFrame'>\n",
      "RangeIndex: 254573 entries, 0 to 254572\n",
      "Data columns (total 6 columns):\n",
      " #   Column          Non-Null Count   Dtype \n",
      "---  ------          --------------   ----- \n",
      " 0   country         254573 non-null  object\n",
      " 1   city            254573 non-null  object\n",
      " 2   hotel           254573 non-null  object\n",
      " 3   date            254573 non-null  object\n",
      " 4   review          254571 non-null  object\n",
      " 5   review_details  227197 non-null  object\n",
      "dtypes: object(6)\n",
      "memory usage: 11.7+ MB\n"
     ]
    }
   ],
   "source": [
    "data.info()"
   ]
  },
  {
   "cell_type": "code",
   "execution_count": 19,
   "id": "f4e35f0c-fea6-4f50-956e-766004680deb",
   "metadata": {},
   "outputs": [
    {
     "data": {
      "text/html": [
       "<div>\n",
       "<style scoped>\n",
       "    .dataframe tbody tr th:only-of-type {\n",
       "        vertical-align: middle;\n",
       "    }\n",
       "\n",
       "    .dataframe tbody tr th {\n",
       "        vertical-align: top;\n",
       "    }\n",
       "\n",
       "    .dataframe thead th {\n",
       "        text-align: right;\n",
       "    }\n",
       "</style>\n",
       "<table border=\"1\" class=\"dataframe\">\n",
       "  <thead>\n",
       "    <tr style=\"text-align: right;\">\n",
       "      <th></th>\n",
       "      <th>country</th>\n",
       "      <th>city</th>\n",
       "      <th>hotel</th>\n",
       "      <th>date</th>\n",
       "      <th>review</th>\n",
       "      <th>review_details</th>\n",
       "    </tr>\n",
       "  </thead>\n",
       "  <tbody>\n",
       "    <tr>\n",
       "      <th>0</th>\n",
       "      <td>china</td>\n",
       "      <td>shanghai</td>\n",
       "      <td>park hotel shanghai</td>\n",
       "      <td>2009-11-02 00:00:00</td>\n",
       "      <td>Great Location Cheap hotel Werid smell</td>\n",
       "      <td>This is really a weird hotel, sure some parts ...</td>\n",
       "    </tr>\n",
       "    <tr>\n",
       "      <th>1</th>\n",
       "      <td>china</td>\n",
       "      <td>shanghai</td>\n",
       "      <td>park hotel shanghai</td>\n",
       "      <td>2009-10-22 00:00:00</td>\n",
       "      <td>Nice but half old!</td>\n",
       "      <td>Hard to tell about my feelings about this hote...</td>\n",
       "    </tr>\n",
       "    <tr>\n",
       "      <th>2</th>\n",
       "      <td>china</td>\n",
       "      <td>shanghai</td>\n",
       "      <td>park hotel shanghai</td>\n",
       "      <td>2009-07-30 00:00:00</td>\n",
       "      <td>Hotel with history- great location and good value</td>\n",
       "      <td>Even though it's no longer the tallest buildin...</td>\n",
       "    </tr>\n",
       "    <tr>\n",
       "      <th>3</th>\n",
       "      <td>china</td>\n",
       "      <td>shanghai</td>\n",
       "      <td>park hotel shanghai</td>\n",
       "      <td>2009-06-03 00:00:00</td>\n",
       "      <td>Stay clear of this one</td>\n",
       "      <td>Well, it is noisy.The service at the front des...</td>\n",
       "    </tr>\n",
       "    <tr>\n",
       "      <th>4</th>\n",
       "      <td>china</td>\n",
       "      <td>shanghai</td>\n",
       "      <td>park hotel shanghai</td>\n",
       "      <td>2008-07-23 00:00:00</td>\n",
       "      <td>Local Insights</td>\n",
       "      <td>Hmmm! A dated old hotel that needs to learn ab...</td>\n",
       "    </tr>\n",
       "  </tbody>\n",
       "</table>\n",
       "</div>"
      ],
      "text/plain": [
       "  country      city                hotel                 date  \\\n",
       "0   china  shanghai  park hotel shanghai  2009-11-02 00:00:00   \n",
       "1   china  shanghai  park hotel shanghai  2009-10-22 00:00:00   \n",
       "2   china  shanghai  park hotel shanghai  2009-07-30 00:00:00   \n",
       "3   china  shanghai  park hotel shanghai  2009-06-03 00:00:00   \n",
       "4   china  shanghai  park hotel shanghai  2008-07-23 00:00:00   \n",
       "\n",
       "                                              review  \\\n",
       "0             Great Location Cheap hotel Werid smell   \n",
       "1                                 Nice but half old!   \n",
       "2  Hotel with history- great location and good value   \n",
       "3                             Stay clear of this one   \n",
       "4                                     Local Insights   \n",
       "\n",
       "                                      review_details  \n",
       "0  This is really a weird hotel, sure some parts ...  \n",
       "1  Hard to tell about my feelings about this hote...  \n",
       "2  Even though it's no longer the tallest buildin...  \n",
       "3  Well, it is noisy.The service at the front des...  \n",
       "4  Hmmm! A dated old hotel that needs to learn ab...  "
      ]
     },
     "execution_count": 19,
     "metadata": {},
     "output_type": "execute_result"
    }
   ],
   "source": [
    "data.head()"
   ]
  },
  {
   "cell_type": "code",
   "execution_count": 20,
   "id": "074055d4-194f-45be-8460-177014cee7ee",
   "metadata": {},
   "outputs": [
    {
     "name": "stdout",
     "output_type": "stream",
     "text": [
      "--------------------------------\n",
      "country \n",
      "\n",
      "country\n",
      "usa      130281\n",
      "uk        79349\n",
      "can       18663\n",
      "are       11834\n",
      "china      9529\n",
      "india      4917\n",
      "Name: count, dtype: int64 \n",
      "\n",
      "--------------------------------\n",
      "city \n",
      "\n",
      "city\n",
      "england          79349\n",
      "new york city    55143\n",
      "san francisco    30401\n",
      "nevada           26506\n",
      "illinois         18231\n",
      "dubai            11834\n",
      "montreal          9333\n",
      "quebec            9330\n",
      "beijing           5253\n",
      "new delhi         4917\n",
      "shanghai          4276\n",
      "Name: count, dtype: int64 \n",
      "\n",
      "--------------------------------\n",
      "hotel \n",
      "\n",
      "hotel\n",
      "las-vegas riviera hotel casino        602\n",
      "le parker meridien                    580\n",
      "embassy suites hotel new york city    580\n",
      "red roof inn manhattan                565\n",
      "hilton times square                   528\n",
      "                                     ... \n",
      "terrace st denis                        1\n",
      "montreal terrace st denis               1\n",
      "grand palace hotel apartments           1\n",
      "dubai concorde residence hotel          1\n",
      "excelsior creek                         1\n",
      "Name: count, Length: 2561, dtype: int64 \n",
      "\n",
      "--------------------------------\n",
      "date \n",
      "\n",
      "date\n",
      "2009-10-08 00:00:00    2926\n",
      "2009-10-09 00:00:00     579\n",
      "2009-10-12 00:00:00     468\n",
      "2009-07-23 00:00:00     440\n",
      "2009-08-17 00:00:00     435\n",
      "                       ... \n",
      "2002-01-12 00:00:00       1\n",
      "2001-12-21 00:00:00       1\n",
      "2002-05-13 00:00:00       1\n",
      "2002-06-22 00:00:00       1\n",
      "2001-12-03 00:00:00       1\n",
      "Name: count, Length: 2780, dtype: int64 \n",
      "\n",
      "--------------------------------\n",
      "review \n",
      "\n",
      "review\n",
      "Great Hotel                                                              1177\n",
      "Great Location                                                           1122\n",
      "Great location                                                            784\n",
      "Great hotel                                                               635\n",
      "Excellent                                                                 435\n",
      "                                                                         ... \n",
      "Poor condition bad neighborhood..however close to UNION SQ and CHEAP.       1\n",
      "Low cost free parking centrally located noisy                               1\n",
      "Better off at a big box competitor                                          1\n",
      "Sleeping in heaven and find out why!                                        1\n",
      "Very overpriced budget accommodation                                        1\n",
      "Name: count, Length: 181776, dtype: int64 \n",
      "\n",
      "--------------------------------\n",
      "review_details \n",
      "\n",
      "review_details\n",
      "Le St. Sulpice did not disappoint in any aspect. The room was stylish, spacious, and very comfortable. Linens were lovely. Housekeeping was attentive and thorough.The desk staff was efficient and helpful. My three nights there were delightful and I would head back again on a return trip to Montreal. A great find thanks to Montreal friends was the Brunoise restaurant at 3807 St. Andre. The food was delicious, the wine quite good, and the cost about $163 US for a three course meal for two and bottle of wine. Toque was another story; the tasting menu with wine for two was $315 US. The menu is a mystery so you do not know what you are ordering. Perhaps the mystery is necessary; I would not have ordered it had I known what was to be included. Service was spotty; another table's entree was served to me,then picked up and served at that table. Large baskets of bread were served; I noticed that the bread was devoured at all the tables ordering the tasting menu. Given the slow service and minute portions (think one scallop in its shell), the bread was the staple of the evening.                                                                                                                                                                                                                                                                                                                                                                                                                                                                                                                                                                                                                                                                                                                                                                                                                                                                                                                                                                  2\n",
      "Stayed at The Gault in a king room on third floor. Very funky and nice. Bedroom/living area curtained off from dressing and bathroom area. Toilet in closet-like space with sliding door and shower next to it with clear door. Sink outside both. Platform bed nice and comfy with a duvet cover. We booked through the hotel's website and it included one dinner. They have a prix fixe menu for meals too. Presentation was great, food was good. Free brkfst very nice too. Ordered omelet from the kitchen to supplement the breads and salads offered. Parking is $25CAD per night. It's in Old Montreal and quite a walk to the downtown area. We did it with no problem but we like to walk. A few museums are nearby, but beware of dog poop all over the sidwalks. Noon check-out is much appreciated.The staff seems to be younger people (20s?) and they were very willing to get you anything you need. Friendly and courteous too.Building was built in 1901 as the first YMCA in North America (plate outside building says so). I would stay here again but would also consider a hotel a little north and few blocks to the west to be closer to the downtown area. Note: The non-Canada resident tax refund program is ending at the end of March. If you do the refund at the airport as you are leaving, you can get cash.                                                                                                                                                                                                                                                                                                                                                                                                                                                                                                                                                                                                                                                                                                                                                2\n",
      "We had a fantastic experience at Hotel Gault. I can't remember the last time I stayed in a place where I couldn't find a single flaw. Everything from interior design to hotel staff was impeccable. Our room was incredibly spacious and seriously felt like home away from home. The staff was personable, attentive and helpful with all our requests, from parking our car to recommending and reserving wonderful dining options in the area. We felt like we were visiting some sort of dear friends, that's how well the staff took care of us. I could go on and on. We ended up extending our stay in Montreal and hotel Gault had a lot to do with it.                                                                                                                                                                                                                                                                                                                                                                                                                                                                                                                                                                                                                                                                                                                                                                                                                                                                                                                                                                                                                                                                                                                                                                                                                                                                                                                                                                                                                               2\n",
      "We just spent the better part of a week at the Hotel Gault in Montreal, celebrating our 20th wedding anniversary, and our postive experiences at this hotel, and in Old Montreal, have left us with such a memorable and joyful celebration. As in Paris, we always prefer a small boutique hotel, and with only 30 diverse rooms in the Hotel Gault, we became acquainted with the friendly, competent, courteous and professional staff, and in all of our interactions with them, we all shared a genuine personal touch to all of our activities. From the time we made our reservations by phone, and until we left by taxi to the airport, every staff member (chefs to attendants) made every encounter a pleasant experience. Our quiet &quot;top 5&quot; room was impecably cleaned each day, excellent toiletries; we were also provided with a hand-written weather report for the next day, along with bottled water on the nightstand. With the excellent location of the Hotel Gault, we leisurely walked, or took the metro everywhere (without fear or safety concerns), and appreciated the non-destructive humanity of the people of this fine city. The majority of our purchases consisted of items (art to clothing) that were creations of local artists, and we never felt cheated or deceived in our discussions and purchases. When we return to Montreal, we will also return to the Hotel Gault, and expect to again enjoy all the courtesies the enthusiastic staff provided to us.                                                                                                                                                                                                                                                                                                                                                                                                                                                                                                                                                                                2\n",
      "Hotel Gault is simply great. It was our second stay there and it hasn't missed a beat in the 2 years since our first visit. Gault now serves lunch and dinner to go along with the included breakfast that they have always offered. ReceptionWe arrived at 1pm and our room was not yet ready (3pm check-in) so we left our vehicle at the curb, they checked our bags for us and then took our vehicle to the car park. We have a full-sized SUV so it had to be parked a block away in a larger garage. Parking was $25CAD/nt. My wife and I walked around Rue St. Paul and grabbed a quick lunch and returned to the hotel at 2:30pm to find that our room was ready. We were then escorted to our room to find that our bags awaited us in the room.The RoomWe booked a corner room. The corner rooms are very spacious with the heated concrete bathroom floors, huge shower with Grohe fixtures and minimalist furniture. The queen-sized bed was comfortable and the rooms contain an ironing board, iron, hairdryer, workstation, flat screen TV with DVD player (movies available in the lobby) and a compact audio system.DiningThe dinner was incredible. A very small and modern menu that reflects the ambience of the hotel. The dining space is small and quiet and the tables overlook gaslit Rue St. Helene. Breakfast is also excellent. There's a cold buffet offering with fresh fruit, baked goods and juices. There are also choices from the kitchen such as omelets with bacon and hash browns. LocationThe hotel is a bit far from the downtown core. It's walkable (for us) but it's a mostly uphill trek to get to St. Catherines' St. Your only a block from the Metro and therefore a block to the underground pedestrian passageways, so once you get a handle of the maps of the underground you can save yourself time and effort navigating the city. Hotel Gault is just 2 streets from Rue St. Paul and a 5 minute walk to Bonsecours and Place Jaques Cartier. Also the Bell Center is approx. a 15 minute walk but just a couple of Metro stops away.    2\n",
      "                                                                                                                                                                                                                                                                                                                                                                                                                                                                                                                                                                                                                                                                                                                                                                                                                                                                                                                                                                                                                                                                                                                                                                                                                                                                                                                                                                                                                                                                                                                                                                                                                                                                                                                                                                                                                                                                                                                                                                                                                                                                                              ..\n",
      "We stayed 3 nights at this hotel after flying in from Australia and recuperated from the flight well. The room was aged, but clean and well maintained, the beds were great.  Location of this hotel was great, the view excellent (water view) - Hyatt Guest room - accommodated 3 of us comfortably.Front line staff were a bit reluctant (may have been the Aussie accent). Breakfast was ordinary - better options around town that cost less.The location of the hotel allowed us to either walk or catch trams to explore San Francisco. We felt this was a good area and felt safe.If you're looking for a centrally located, comfortable and clean hotel then I'd recommend this hotel and we'd stay again.                                                                                                                                                                                                                                                                                                                                                                                                                                                                                                                                                                                                                                                                                                                                                                                                                                                                                                                                                                                                                                                                                                                                                                                                                                                                                                                                                                            1\n",
      "I stayed here for one night last weekend and got a corporate rate for the room, which made it affordable; I'm glad I didn't pay full price for it. The location is excellent, right outside the BART station and close to the Ferry Building (awesome bars, restaurants, and fabulous farmer's market on Saturday mornings) as well as part of the Embarcadero shopping complex. The hotel is massive, with one of those cheezy big-hotel atriums in the centre, although since it was Christmas it was decorated for the holidays and quite beautiful. I arrived late on Friday night after missing a flight; the front desk staff was efficient, but not friendly. I decided to work out, and the gym was quite good - it's open 24 hours with your key and I was the only one there. The room itself was fine, although the bathroom was TINY, and the walls were paper-thin (I could hear the women in the next room chatting as soon as they woke up, which was EARLY!) Not what you expect from an expensive hotel. Average furnishings &amp; decor, but a nice big bed with soft sheets and lots of pillows, and a sliding door that opened to the outside, which was nice. Overall, a good but not great experience; I expected more considering what they normally charge for a room.                                                                                                                                                                                                                                                                                                                                                                                                                                                                                                                                                                                                                                                                                                                                                                                                 1\n",
      "My husband and I stayed at the Hyatt Regency Embarcadero on Nov. 19-21, 2006. We booked the hotel through priceline.com and got a rate of $80. I knew a hotel in this area would charge for parking so I figured that was a pretty good rate if I added in an estimated parking fee of $30. It turned out that the parking fee was $28.50 if we self-parked with no in-out priveleges and $49 if we valet parked, inc. in-out priveleges. This was told to us by the valet at the hotel when we drove up. We truly appreciated his candor and decided to self park since we expected to use the local transportation. The parking garage was just across the street and the next block over so it was not a problem. We requested and received a king size, non-smoking room with a &quot;partial view&quot;. It was on the 7th floor and we could see the Ferry Building and bay beyond it. There was also an outside ice skating rink behind the hotel that we could see. Our room was large, one of the largest hotel rooms I have been in. The bed was extremely comfortable. The bathroom was clean.Since we arrived at midnight, we did not know about the water wall in the lobby until the morning. The lobby was just as pretty during the day. The hotel had just been decorated for Christmas and the lobby was quite pretty with all of the hanging lights. The hotel is located across the street from the Ferry Building and the &quot;F&quot; Line stops in front of it. This street car takes you all along the Embarcadero to Fisherman's Wharf and then down to Market Street. There is also a trolley car line that runs in front of the hotel that goes to Chinatown. Hotel staff was very knowledgeable and there is a computer kiosk where you can print your airline boarding passes.I would absolutely stay here again.                                                                                                                                                                                                                                                1\n",
      "I recently spent the night at the Hyatt Regency Embarcadero for a business conference. The actual hotel was beautiful, the rooms very comfortable, and the staff very friendly and helpful. I just wasn't very happy with the location. I usually enjoy shopping while in San Francisco. It is located next door to the Embarcadero Shopping Center, but there were only a few shops that I was interested in. The one advantage is there is a cable car stop right outside of the hotel that can take you to ChinaTown and over by Union Square.                                                                                                                                                                                                                                                                                                                                                                                                                                                                                                                                                                                                                                                                                                                                                                                                                                                                                                                                                                                                                                                                                                                                                                                                                                                                                                                                                                                                                                                                                                                                              1\n",
      "This is without a doubt a budget hotel. I booked it because it was one of the cheapest I could find in a central London location. The room (a double) was freezing--the heat was turned off during certain hours, I was told, because most of the guests are not there during the day. However, it never seemed to get warm, even at night when you'd expect the heat to be turned on. The hot water seemed to be on a timer as well--one day it was warm, the next it was lukewarm at best. When I told the reception about it, the response I received was &quot;that's impossible.&quot; The toilet leaked after flushing it, the bathroom had a very unpleasant smell emanating from it, and the television remote control was broken. I can accept these problems to some extent if I'm expecting budget accommodation, but at £70 ($140 for me as an American) a night, that's not a budget price. Breakfast, which was provided by individuals that were difficult to communicate with, was very basic and entirely rushed. The only positive thing is the location, which was still a bit of a walk from the nearest tube stop. I wouldn't recommend this hotel at all unless their prices were lowered significantly.                                                                                                                                                                                                                                                                                                                                                                                                                                                                                                                                                                                                                                                                                                                                                                                                                                                                 1\n",
      "Name: count, Length: 218968, dtype: int64 \n",
      "\n"
     ]
    }
   ],
   "source": [
    "for column in data.columns:\n",
    "    if data[column].dtype == 'object':\n",
    "        print(\"--------------------------------\")\n",
    "        print(column,'\\n')\n",
    "        print(data[column].value_counts(),'\\n')"
   ]
  },
  {
   "cell_type": "code",
   "execution_count": 21,
   "id": "7fda153a-17ae-4425-90b1-b9ad63a5b721",
   "metadata": {},
   "outputs": [],
   "source": [
    "# Rename columns\n",
    "data['country'] = data['country'].replace('can', 'canada')\n",
    "data['country'] = data['country'].replace('are', 'united arab emirates')"
   ]
  },
  {
   "cell_type": "code",
   "execution_count": 22,
   "id": "d839e55d-9fb2-41e2-a749-a99ff5d49ac7",
   "metadata": {},
   "outputs": [],
   "source": [
    "# Join two columns that have reviews information\n",
    "data['hotel_review'] = data.apply(lambda row: f\"{row['review']} {row['review_details']}\", axis=1)"
   ]
  },
  {
   "cell_type": "code",
   "execution_count": 23,
   "id": "862dc132-a91b-4835-95a0-2032a37e85e7",
   "metadata": {},
   "outputs": [],
   "source": [
    "# Delete the columns that were joined\n",
    "data.drop(\"review\", axis=1, inplace=True)\n",
    "data.drop(\"review_details\", axis=1, inplace=True)"
   ]
  },
  {
   "cell_type": "code",
   "execution_count": 24,
   "id": "20e26cac-b7f6-4e3e-8a87-9093de9d03f0",
   "metadata": {},
   "outputs": [
    {
     "data": {
      "text/html": [
       "<div>\n",
       "<style scoped>\n",
       "    .dataframe tbody tr th:only-of-type {\n",
       "        vertical-align: middle;\n",
       "    }\n",
       "\n",
       "    .dataframe tbody tr th {\n",
       "        vertical-align: top;\n",
       "    }\n",
       "\n",
       "    .dataframe thead th {\n",
       "        text-align: right;\n",
       "    }\n",
       "</style>\n",
       "<table border=\"1\" class=\"dataframe\">\n",
       "  <thead>\n",
       "    <tr style=\"text-align: right;\">\n",
       "      <th></th>\n",
       "      <th>country</th>\n",
       "      <th>city</th>\n",
       "      <th>hotel</th>\n",
       "      <th>date</th>\n",
       "      <th>hotel_review</th>\n",
       "    </tr>\n",
       "  </thead>\n",
       "  <tbody>\n",
       "    <tr>\n",
       "      <th>0</th>\n",
       "      <td>china</td>\n",
       "      <td>shanghai</td>\n",
       "      <td>park hotel shanghai</td>\n",
       "      <td>2009-11-02 00:00:00</td>\n",
       "      <td>Great Location Cheap hotel Werid smell This is...</td>\n",
       "    </tr>\n",
       "    <tr>\n",
       "      <th>1</th>\n",
       "      <td>china</td>\n",
       "      <td>shanghai</td>\n",
       "      <td>park hotel shanghai</td>\n",
       "      <td>2009-10-22 00:00:00</td>\n",
       "      <td>Nice but half old! Hard to tell about my feeli...</td>\n",
       "    </tr>\n",
       "    <tr>\n",
       "      <th>2</th>\n",
       "      <td>china</td>\n",
       "      <td>shanghai</td>\n",
       "      <td>park hotel shanghai</td>\n",
       "      <td>2009-07-30 00:00:00</td>\n",
       "      <td>Hotel with history- great location and good va...</td>\n",
       "    </tr>\n",
       "    <tr>\n",
       "      <th>3</th>\n",
       "      <td>china</td>\n",
       "      <td>shanghai</td>\n",
       "      <td>park hotel shanghai</td>\n",
       "      <td>2009-06-03 00:00:00</td>\n",
       "      <td>Stay clear of this one Well, it is noisy.The s...</td>\n",
       "    </tr>\n",
       "    <tr>\n",
       "      <th>4</th>\n",
       "      <td>china</td>\n",
       "      <td>shanghai</td>\n",
       "      <td>park hotel shanghai</td>\n",
       "      <td>2008-07-23 00:00:00</td>\n",
       "      <td>Local Insights Hmmm! A dated old hotel that ne...</td>\n",
       "    </tr>\n",
       "  </tbody>\n",
       "</table>\n",
       "</div>"
      ],
      "text/plain": [
       "  country      city                hotel                 date  \\\n",
       "0   china  shanghai  park hotel shanghai  2009-11-02 00:00:00   \n",
       "1   china  shanghai  park hotel shanghai  2009-10-22 00:00:00   \n",
       "2   china  shanghai  park hotel shanghai  2009-07-30 00:00:00   \n",
       "3   china  shanghai  park hotel shanghai  2009-06-03 00:00:00   \n",
       "4   china  shanghai  park hotel shanghai  2008-07-23 00:00:00   \n",
       "\n",
       "                                        hotel_review  \n",
       "0  Great Location Cheap hotel Werid smell This is...  \n",
       "1  Nice but half old! Hard to tell about my feeli...  \n",
       "2  Hotel with history- great location and good va...  \n",
       "3  Stay clear of this one Well, it is noisy.The s...  \n",
       "4  Local Insights Hmmm! A dated old hotel that ne...  "
      ]
     },
     "execution_count": 24,
     "metadata": {},
     "output_type": "execute_result"
    }
   ],
   "source": [
    "data.head()"
   ]
  },
  {
   "cell_type": "markdown",
   "id": "09d77f72-6cb2-4d0b-823a-6a8577cda6bb",
   "metadata": {},
   "source": [
    "### 4. Sample Data"
   ]
  },
  {
   "cell_type": "markdown",
   "id": "73ba80cf-f6cb-42cd-bbbb-2fcd12d9fa41",
   "metadata": {},
   "source": [
    "Make a sample of the dataset with the first 2000 reviews of each city."
   ]
  },
  {
   "cell_type": "code",
   "execution_count": 25,
   "id": "03f2a6b8-ba3a-43aa-ad50-0de5f912f034",
   "metadata": {},
   "outputs": [],
   "source": [
    "result = data.groupby('city').head(2000)"
   ]
  },
  {
   "cell_type": "code",
   "execution_count": 26,
   "id": "67e3d0a3-b010-47f1-b09f-11c670335b1b",
   "metadata": {},
   "outputs": [],
   "source": [
    "result.to_csv('sample_data.csv', index=False)"
   ]
  },
  {
   "cell_type": "code",
   "execution_count": 27,
   "id": "7e500303-4da3-44f3-a425-d2ce6b8be64c",
   "metadata": {},
   "outputs": [],
   "source": [
    "sample_path = './sample_data.csv'"
   ]
  },
  {
   "cell_type": "code",
   "execution_count": 28,
   "id": "accf8ab2-3eec-4052-ac41-d0863f89baeb",
   "metadata": {},
   "outputs": [],
   "source": [
    "sample = pd.read_csv(sample_path)"
   ]
  },
  {
   "cell_type": "markdown",
   "id": "43f995ec-de75-4a0f-929a-943ceb539da0",
   "metadata": {},
   "source": [
    "### 5. EDA"
   ]
  },
  {
   "cell_type": "markdown",
   "id": "b70c2605-76b5-4d28-8054-92293a819c65",
   "metadata": {},
   "source": [
    "Explore the data to understand it, and guide model selection. "
   ]
  },
  {
   "cell_type": "code",
   "execution_count": 29,
   "id": "f8d9f899-dd26-4411-887f-4f8193b8d71d",
   "metadata": {},
   "outputs": [],
   "source": [
    "top_hotel = data.hotel.mode()[0]\n",
    "top_country = data.country.mode()[0]\n",
    "top_city = data.city.mode()[0]"
   ]
  },
  {
   "cell_type": "code",
   "execution_count": 30,
   "id": "11cbaed8-7edc-4535-bf66-02f9ac65ab67",
   "metadata": {},
   "outputs": [
    {
     "name": "stdout",
     "output_type": "stream",
     "text": [
      "las-vegas riviera hotel casino , usa , england\n"
     ]
    }
   ],
   "source": [
    "print(top_hotel,',', top_country, ',', top_city)"
   ]
  },
  {
   "cell_type": "code",
   "execution_count": 31,
   "id": "89722585-54cd-4100-a8e4-dbda9724a5f3",
   "metadata": {},
   "outputs": [],
   "source": [
    "top_hotel_sample = sample.hotel.mode()[0]\n",
    "top_country_sample = sample.country.mode()[0]\n",
    "top_city_sample = sample.city.mode()[0]"
   ]
  },
  {
   "cell_type": "code",
   "execution_count": 32,
   "id": "a7806d4c-c5c7-4d4b-8b7f-aedcda2d2706",
   "metadata": {},
   "outputs": [
    {
     "name": "stdout",
     "output_type": "stream",
     "text": [
      "jumeirah beach hotel , usa , beijing\n"
     ]
    }
   ],
   "source": [
    "print(top_hotel_sample,',', top_country_sample, ',', top_city_sample)"
   ]
  },
  {
   "cell_type": "code",
   "execution_count": 33,
   "id": "5bd8574d-4b23-40ae-96a5-379dfa3d81fc",
   "metadata": {},
   "outputs": [
    {
     "data": {
      "image/png": "[encoded data removed]",
      "text/plain": [
       "<Figure size 1000x500 with 1 Axes>"
      ]
     },
     "metadata": {},
     "output_type": "display_data"
    }
   ],
   "source": [
    "plt.figure(figsize = (10,5))\n",
    "\n",
    "plt.title('Number of Reviews by Country')\n",
    "plt.ylabel('Countries')\n",
    "plt.xlabel('Num of Reviews')\n",
    "\n",
    "plt.tick_params(axis='x', rotation = 90)\n",
    "\n",
    "data['country'].value_counts().plot(kind='barh') \n",
    "\n",
    "# prints the plot\n",
    "plt.show()"
   ]
  },
  {
   "cell_type": "code",
   "execution_count": 34,
   "id": "e8da786d-1328-400c-8e9f-e7efa1589020",
   "metadata": {},
   "outputs": [
    {
     "data": {
      "image/png": "[encoded data removed]",
      "text/plain": [
       "<Figure size 1000x500 with 1 Axes>"
      ]
     },
     "metadata": {},
     "output_type": "display_data"
    }
   ],
   "source": [
    "plt.figure(figsize = (10,5))\n",
    "plt.title('Number of Reviews by City')\n",
    "plt.ylabel('Cities')\n",
    "plt.xlabel('Number of Reviews')\n",
    "plt.tick_params(axis='x', rotation = 90)\n",
    "\n",
    "data['city'].value_counts().plot(kind='barh',color=['C4']) \n",
    "\n",
    "plt.show()"
   ]
  },
  {
   "cell_type": "code",
   "execution_count": 35,
   "id": "befbaf4a-e868-45ba-9845-de13cf983de4",
   "metadata": {},
   "outputs": [
    {
     "data": {
      "image/png": "[encoded data removed]",
      "text/plain": [
       "<Figure size 1000x500 with 1 Axes>"
      ]
     },
     "metadata": {},
     "output_type": "display_data"
    }
   ],
   "source": [
    "plt.figure(figsize = (10,5))\n",
    "plt.title('Number of Reviews by Hotel')\n",
    "plt.ylabel('Number of Reviews')\n",
    "plt.xlabel('Hotel')\n",
    "\n",
    "data['hotel'].value_counts().plot(kind='bar') \n",
    "\n",
    "plt.show()"
   ]
  },
  {
   "cell_type": "markdown",
   "id": "bac6a111-072d-4cea-80b6-1dc0da6573f8",
   "metadata": {},
   "source": [
    "### 6. VADER"
   ]
  },
  {
   "cell_type": "markdown",
   "id": "94a44645-4590-491b-8fb7-8afdf88a744b",
   "metadata": {},
   "source": [
    "VADER (Valence Aware Dictionary and sEntiment Reasoner) will analyze the sentiment of words in a text. In this case it will analyze the hotel reviews of clients."
   ]
  },
  {
   "cell_type": "code",
   "execution_count": 36,
   "id": "f7d2852a-a139-4166-a254-b03fbd6d442c",
   "metadata": {},
   "outputs": [],
   "source": [
    "from vaderSentiment.vaderSentiment import SentimentIntensityAnalyzer\n",
    "analyser = SentimentIntensityAnalyzer()"
   ]
  },
  {
   "cell_type": "code",
   "execution_count": 37,
   "id": "8cca8863-e179-4605-8599-a2f2439e7227",
   "metadata": {},
   "outputs": [
    {
     "data": {
      "text/plain": [
       "<vaderSentiment.vaderSentiment.SentimentIntensityAnalyzer at 0x32597b770>"
      ]
     },
     "execution_count": 37,
     "metadata": {},
     "output_type": "execute_result"
    }
   ],
   "source": [
    "analyser"
   ]
  },
  {
   "cell_type": "code",
   "execution_count": 38,
   "id": "bc1a90cc-e1a6-491c-8845-a0c134b906e7",
   "metadata": {},
   "outputs": [],
   "source": [
    "def sentiment_analyzer_scores(sentence):\n",
    "    score = analyser.polarity_scores(sentence)\n",
    "    return score['compound']"
   ]
  },
  {
   "cell_type": "code",
   "execution_count": 39,
   "id": "984d749c-6458-4342-95d4-dc90041ca484",
   "metadata": {},
   "outputs": [
    {
     "data": {
      "text/plain": [
       "0        0.9542\n",
       "1        0.7341\n",
       "2        0.9312\n",
       "3        0.9289\n",
       "4       -0.8268\n",
       "          ...  \n",
       "21995    0.9305\n",
       "21996    0.1989\n",
       "21997    0.9844\n",
       "21998    0.9574\n",
       "21999    0.1280\n",
       "Name: hotel_review, Length: 22000, dtype: float64"
      ]
     },
     "execution_count": 39,
     "metadata": {},
     "output_type": "execute_result"
    }
   ],
   "source": [
    "sample['hotel_review'].apply(lambda x: sentiment_analyzer_scores(x))"
   ]
  },
  {
   "cell_type": "code",
   "execution_count": 40,
   "id": "7d8b720e-73cd-4b06-8b88-db4455ad6c82",
   "metadata": {},
   "outputs": [],
   "source": [
    "sample['sentiment'] = sample['hotel_review'].apply(lambda x: sentiment_analyzer_scores(x))"
   ]
  },
  {
   "cell_type": "code",
   "execution_count": 41,
   "id": "787a4948-73e9-4bb9-84d9-2f94a5bded9d",
   "metadata": {},
   "outputs": [
    {
     "data": {
      "text/html": [
       "<div>\n",
       "<style scoped>\n",
       "    .dataframe tbody tr th:only-of-type {\n",
       "        vertical-align: middle;\n",
       "    }\n",
       "\n",
       "    .dataframe tbody tr th {\n",
       "        vertical-align: top;\n",
       "    }\n",
       "\n",
       "    .dataframe thead th {\n",
       "        text-align: right;\n",
       "    }\n",
       "</style>\n",
       "<table border=\"1\" class=\"dataframe\">\n",
       "  <thead>\n",
       "    <tr style=\"text-align: right;\">\n",
       "      <th></th>\n",
       "      <th>country</th>\n",
       "      <th>city</th>\n",
       "      <th>hotel</th>\n",
       "      <th>date</th>\n",
       "      <th>hotel_review</th>\n",
       "      <th>sentiment</th>\n",
       "    </tr>\n",
       "  </thead>\n",
       "  <tbody>\n",
       "    <tr>\n",
       "      <th>0</th>\n",
       "      <td>china</td>\n",
       "      <td>shanghai</td>\n",
       "      <td>park hotel shanghai</td>\n",
       "      <td>2009-11-02 00:00:00</td>\n",
       "      <td>Great Location Cheap hotel Werid smell This is...</td>\n",
       "      <td>0.9542</td>\n",
       "    </tr>\n",
       "    <tr>\n",
       "      <th>1</th>\n",
       "      <td>china</td>\n",
       "      <td>shanghai</td>\n",
       "      <td>park hotel shanghai</td>\n",
       "      <td>2009-10-22 00:00:00</td>\n",
       "      <td>Nice but half old! Hard to tell about my feeli...</td>\n",
       "      <td>0.7341</td>\n",
       "    </tr>\n",
       "    <tr>\n",
       "      <th>2</th>\n",
       "      <td>china</td>\n",
       "      <td>shanghai</td>\n",
       "      <td>park hotel shanghai</td>\n",
       "      <td>2009-07-30 00:00:00</td>\n",
       "      <td>Hotel with history- great location and good va...</td>\n",
       "      <td>0.9312</td>\n",
       "    </tr>\n",
       "    <tr>\n",
       "      <th>3</th>\n",
       "      <td>china</td>\n",
       "      <td>shanghai</td>\n",
       "      <td>park hotel shanghai</td>\n",
       "      <td>2009-06-03 00:00:00</td>\n",
       "      <td>Stay clear of this one Well, it is noisy.The s...</td>\n",
       "      <td>0.9289</td>\n",
       "    </tr>\n",
       "    <tr>\n",
       "      <th>4</th>\n",
       "      <td>china</td>\n",
       "      <td>shanghai</td>\n",
       "      <td>park hotel shanghai</td>\n",
       "      <td>2008-07-23 00:00:00</td>\n",
       "      <td>Local Insights Hmmm! A dated old hotel that ne...</td>\n",
       "      <td>-0.8268</td>\n",
       "    </tr>\n",
       "  </tbody>\n",
       "</table>\n",
       "</div>"
      ],
      "text/plain": [
       "  country      city                hotel                 date  \\\n",
       "0   china  shanghai  park hotel shanghai  2009-11-02 00:00:00   \n",
       "1   china  shanghai  park hotel shanghai  2009-10-22 00:00:00   \n",
       "2   china  shanghai  park hotel shanghai  2009-07-30 00:00:00   \n",
       "3   china  shanghai  park hotel shanghai  2009-06-03 00:00:00   \n",
       "4   china  shanghai  park hotel shanghai  2008-07-23 00:00:00   \n",
       "\n",
       "                                        hotel_review  sentiment  \n",
       "0  Great Location Cheap hotel Werid smell This is...     0.9542  \n",
       "1  Nice but half old! Hard to tell about my feeli...     0.7341  \n",
       "2  Hotel with history- great location and good va...     0.9312  \n",
       "3  Stay clear of this one Well, it is noisy.The s...     0.9289  \n",
       "4  Local Insights Hmmm! A dated old hotel that ne...    -0.8268  "
      ]
     },
     "execution_count": 41,
     "metadata": {},
     "output_type": "execute_result"
    }
   ],
   "source": [
    "sample.head()"
   ]
  },
  {
   "cell_type": "code",
   "execution_count": 42,
   "id": "a09e0aff-ac45-4ea2-9989-1e50c11ab766",
   "metadata": {},
   "outputs": [],
   "source": [
    "def classify_sentiment(score):\n",
    "    if score > 0.8:\n",
    "        return \"positive\"\n",
    "    elif score > 0.0:\n",
    "        return \"neutral\"\n",
    "    else:\n",
    "        return \"negative\""
   ]
  },
  {
   "cell_type": "code",
   "execution_count": 43,
   "id": "658beff2-cd47-47e9-af22-75d08bcc23fb",
   "metadata": {},
   "outputs": [],
   "source": [
    "sample['sentiment_classification'] = sample['sentiment'].apply(classify_sentiment)"
   ]
  },
  {
   "cell_type": "code",
   "execution_count": 44,
   "id": "0bc98232-2b0b-4044-a9a3-d7798d4e05be",
   "metadata": {},
   "outputs": [
    {
     "data": {
      "text/html": [
       "<div>\n",
       "<style scoped>\n",
       "    .dataframe tbody tr th:only-of-type {\n",
       "        vertical-align: middle;\n",
       "    }\n",
       "\n",
       "    .dataframe tbody tr th {\n",
       "        vertical-align: top;\n",
       "    }\n",
       "\n",
       "    .dataframe thead th {\n",
       "        text-align: right;\n",
       "    }\n",
       "</style>\n",
       "<table border=\"1\" class=\"dataframe\">\n",
       "  <thead>\n",
       "    <tr style=\"text-align: right;\">\n",
       "      <th></th>\n",
       "      <th>country</th>\n",
       "      <th>city</th>\n",
       "      <th>hotel</th>\n",
       "      <th>date</th>\n",
       "      <th>hotel_review</th>\n",
       "      <th>sentiment</th>\n",
       "      <th>sentiment_classification</th>\n",
       "    </tr>\n",
       "  </thead>\n",
       "  <tbody>\n",
       "    <tr>\n",
       "      <th>0</th>\n",
       "      <td>china</td>\n",
       "      <td>shanghai</td>\n",
       "      <td>park hotel shanghai</td>\n",
       "      <td>2009-11-02 00:00:00</td>\n",
       "      <td>Great Location Cheap hotel Werid smell This is...</td>\n",
       "      <td>0.9542</td>\n",
       "      <td>positive</td>\n",
       "    </tr>\n",
       "    <tr>\n",
       "      <th>1</th>\n",
       "      <td>china</td>\n",
       "      <td>shanghai</td>\n",
       "      <td>park hotel shanghai</td>\n",
       "      <td>2009-10-22 00:00:00</td>\n",
       "      <td>Nice but half old! Hard to tell about my feeli...</td>\n",
       "      <td>0.7341</td>\n",
       "      <td>neutral</td>\n",
       "    </tr>\n",
       "    <tr>\n",
       "      <th>2</th>\n",
       "      <td>china</td>\n",
       "      <td>shanghai</td>\n",
       "      <td>park hotel shanghai</td>\n",
       "      <td>2009-07-30 00:00:00</td>\n",
       "      <td>Hotel with history- great location and good va...</td>\n",
       "      <td>0.9312</td>\n",
       "      <td>positive</td>\n",
       "    </tr>\n",
       "    <tr>\n",
       "      <th>3</th>\n",
       "      <td>china</td>\n",
       "      <td>shanghai</td>\n",
       "      <td>park hotel shanghai</td>\n",
       "      <td>2009-06-03 00:00:00</td>\n",
       "      <td>Stay clear of this one Well, it is noisy.The s...</td>\n",
       "      <td>0.9289</td>\n",
       "      <td>positive</td>\n",
       "    </tr>\n",
       "    <tr>\n",
       "      <th>4</th>\n",
       "      <td>china</td>\n",
       "      <td>shanghai</td>\n",
       "      <td>park hotel shanghai</td>\n",
       "      <td>2008-07-23 00:00:00</td>\n",
       "      <td>Local Insights Hmmm! A dated old hotel that ne...</td>\n",
       "      <td>-0.8268</td>\n",
       "      <td>negative</td>\n",
       "    </tr>\n",
       "  </tbody>\n",
       "</table>\n",
       "</div>"
      ],
      "text/plain": [
       "  country      city                hotel                 date  \\\n",
       "0   china  shanghai  park hotel shanghai  2009-11-02 00:00:00   \n",
       "1   china  shanghai  park hotel shanghai  2009-10-22 00:00:00   \n",
       "2   china  shanghai  park hotel shanghai  2009-07-30 00:00:00   \n",
       "3   china  shanghai  park hotel shanghai  2009-06-03 00:00:00   \n",
       "4   china  shanghai  park hotel shanghai  2008-07-23 00:00:00   \n",
       "\n",
       "                                        hotel_review  sentiment  \\\n",
       "0  Great Location Cheap hotel Werid smell This is...     0.9542   \n",
       "1  Nice but half old! Hard to tell about my feeli...     0.7341   \n",
       "2  Hotel with history- great location and good va...     0.9312   \n",
       "3  Stay clear of this one Well, it is noisy.The s...     0.9289   \n",
       "4  Local Insights Hmmm! A dated old hotel that ne...    -0.8268   \n",
       "\n",
       "  sentiment_classification  \n",
       "0                 positive  \n",
       "1                  neutral  \n",
       "2                 positive  \n",
       "3                 positive  \n",
       "4                 negative  "
      ]
     },
     "execution_count": 44,
     "metadata": {},
     "output_type": "execute_result"
    }
   ],
   "source": [
    "sample.head()"
   ]
  },
  {
   "cell_type": "markdown",
   "id": "6d752196-d18d-4346-949d-24b7e80c3fa7",
   "metadata": {},
   "source": [
    "### 7. RoBERTa"
   ]
  },
  {
   "cell_type": "markdown",
   "id": "1ad7d170-589b-4327-8ed2-5609d2c96a70",
   "metadata": {},
   "source": [
    "With RoBERTa model, each hotel review will be process to add emotion scores as new columns in the DataFrame."
   ]
  },
  {
   "cell_type": "code",
   "execution_count": 45,
   "id": "7bfd24d9-2149-41dd-87ff-9758de81eb25",
   "metadata": {},
   "outputs": [],
   "source": [
    "def add_emotion_columns(df, review_column='hotel_review', model_name=\"joeddav/distilbert-base-uncased-go-emotions-student\"):\n",
    "    \n",
    "    # Load pre-trained model and tokenizer\n",
    "    print(\"Loading model and tokenizer...\")\n",
    "    tokenizer = AutoTokenizer.from_pretrained(model_name)\n",
    "    model = AutoModelForSequenceClassification.from_pretrained(model_name)\n",
    "    \n",
    "    # Get the emotion labels from the model\n",
    "    emotions = [model.config.id2label[i] for i in range(model.config.num_labels)]\n",
    "    \n",
    "    # Create empty columns for emotions\n",
    "    result_df = df.copy()\n",
    "    for emotion in emotions:\n",
    "        result_df[f'emotion_{emotion}'] = 0.0\n",
    "    \n",
    "    # Process each review\n",
    "    print(f\"Processing {len(df)} reviews...\")\n",
    "    for idx, row in df.iterrows():\n",
    "        if idx % 100 == 0 and idx > 0:\n",
    "            print(f\"Processed {idx} reviews...\")\n",
    "            \n",
    "        review = row[review_column]\n",
    "        \n",
    "        # Skip empty reviews\n",
    "        if pd.isna(review) or review == \"\":\n",
    "            continue\n",
    "            \n",
    "        # Tokenize the review\n",
    "        encoded_review = tokenizer(review, return_tensors='pt', truncation=True, max_length=512)\n",
    "        \n",
    "        # Get model prediction\n",
    "        with torch.no_grad():\n",
    "            output = model(**encoded_review)\n",
    "        \n",
    "        # Convert logits to probabilities\n",
    "        scores = softmax(output.logits.numpy(), axis=1)[0]\n",
    "        \n",
    "        # Add emotion scores to the DataFrame\n",
    "        for i, emotion in enumerate(emotions):\n",
    "            result_df.at[idx, f'emotion_{emotion}'] = float(scores[i])\n",
    "    \n",
    "    print(\"Processing complete!\")\n",
    "    return result_df"
   ]
  },
  {
   "cell_type": "code",
   "execution_count": 48,
   "id": "db28cc1c-4441-463d-a3af-4b744e14a365",
   "metadata": {},
   "outputs": [],
   "source": [
    "df = pd.DataFrame(sample)"
   ]
  },
  {
   "cell_type": "code",
   "execution_count": 49,
   "id": "a6e6aee4-a994-4219-a296-5d1ed5bb1376",
   "metadata": {},
   "outputs": [
    {
     "name": "stdout",
     "output_type": "stream",
     "text": [
      "Loading model and tokenizer...\n",
      "Processing 22000 reviews...\n",
      "Processed 100 reviews...\n",
      "Processed 200 reviews...\n",
      "Processed 300 reviews...\n",
      "Processed 400 reviews...\n",
      "Processed 500 reviews...\n",
      "Processed 600 reviews...\n",
      "Processed 700 reviews...\n",
      "Processed 800 reviews...\n",
      "Processed 900 reviews...\n",
      "Processed 1000 reviews...\n",
      "Processed 1100 reviews...\n",
      "Processed 1200 reviews...\n",
      "Processed 1300 reviews...\n",
      "Processed 1400 reviews...\n",
      "Processed 1500 reviews...\n",
      "Processed 1600 reviews...\n",
      "Processed 1700 reviews...\n",
      "Processed 1800 reviews...\n",
      "Processed 1900 reviews...\n",
      "Processed 2000 reviews...\n",
      "Processed 2100 reviews...\n",
      "Processed 2200 reviews...\n",
      "Processed 2300 reviews...\n",
      "Processed 2400 reviews...\n",
      "Processed 2500 reviews...\n",
      "Processed 2600 reviews...\n",
      "Processed 2700 reviews...\n",
      "Processed 2800 reviews...\n",
      "Processed 2900 reviews...\n",
      "Processed 3000 reviews...\n",
      "Processed 3100 reviews...\n",
      "Processed 3200 reviews...\n",
      "Processed 3300 reviews...\n",
      "Processed 3400 reviews...\n",
      "Processed 3500 reviews...\n",
      "Processed 3600 reviews...\n",
      "Processed 3700 reviews...\n",
      "Processed 3800 reviews...\n",
      "Processed 3900 reviews...\n",
      "Processed 4000 reviews...\n",
      "Processed 4100 reviews...\n",
      "Processed 4200 reviews...\n",
      "Processed 4300 reviews...\n",
      "Processed 4400 reviews...\n",
      "Processed 4500 reviews...\n",
      "Processed 4600 reviews...\n",
      "Processed 4700 reviews...\n",
      "Processed 4800 reviews...\n",
      "Processed 4900 reviews...\n",
      "Processed 5000 reviews...\n",
      "Processed 5100 reviews...\n",
      "Processed 5200 reviews...\n",
      "Processed 5300 reviews...\n",
      "Processed 5400 reviews...\n",
      "Processed 5500 reviews...\n",
      "Processed 5600 reviews...\n",
      "Processed 5700 reviews...\n",
      "Processed 5800 reviews...\n",
      "Processed 5900 reviews...\n",
      "Processed 6000 reviews...\n",
      "Processed 6100 reviews...\n",
      "Processed 6200 reviews...\n",
      "Processed 6300 reviews...\n",
      "Processed 6400 reviews...\n",
      "Processed 6500 reviews...\n",
      "Processed 6600 reviews...\n",
      "Processed 6700 reviews...\n",
      "Processed 6800 reviews...\n",
      "Processed 6900 reviews...\n",
      "Processed 7000 reviews...\n",
      "Processed 7100 reviews...\n",
      "Processed 7200 reviews...\n",
      "Processed 7300 reviews...\n",
      "Processed 7400 reviews...\n",
      "Processed 7500 reviews...\n",
      "Processed 7600 reviews...\n",
      "Processed 7700 reviews...\n",
      "Processed 7800 reviews...\n",
      "Processed 7900 reviews...\n",
      "Processed 8000 reviews...\n",
      "Processed 8100 reviews...\n",
      "Processed 8200 reviews...\n",
      "Processed 8300 reviews...\n",
      "Processed 8400 reviews...\n",
      "Processed 8500 reviews...\n",
      "Processed 8600 reviews...\n",
      "Processed 8700 reviews...\n",
      "Processed 8800 reviews...\n",
      "Processed 8900 reviews...\n",
      "Processed 9000 reviews...\n",
      "Processed 9100 reviews...\n",
      "Processed 9200 reviews...\n",
      "Processed 9300 reviews...\n",
      "Processed 9400 reviews...\n",
      "Processed 9500 reviews...\n",
      "Processed 9600 reviews...\n",
      "Processed 9700 reviews...\n",
      "Processed 9800 reviews...\n",
      "Processed 9900 reviews...\n",
      "Processed 10000 reviews...\n",
      "Processed 10100 reviews...\n",
      "Processed 10200 reviews...\n",
      "Processed 10300 reviews...\n",
      "Processed 10400 reviews...\n",
      "Processed 10500 reviews...\n",
      "Processed 10600 reviews...\n",
      "Processed 10700 reviews...\n",
      "Processed 10800 reviews...\n",
      "Processed 10900 reviews...\n",
      "Processed 11000 reviews...\n",
      "Processed 11100 reviews...\n",
      "Processed 11200 reviews...\n",
      "Processed 11300 reviews...\n",
      "Processed 11400 reviews...\n",
      "Processed 11500 reviews...\n",
      "Processed 11600 reviews...\n",
      "Processed 11700 reviews...\n",
      "Processed 11800 reviews...\n",
      "Processed 11900 reviews...\n",
      "Processed 12000 reviews...\n",
      "Processed 12100 reviews...\n",
      "Processed 12200 reviews...\n",
      "Processed 12300 reviews...\n",
      "Processed 12400 reviews...\n",
      "Processed 12500 reviews...\n",
      "Processed 12600 reviews...\n",
      "Processed 12700 reviews...\n",
      "Processed 12800 reviews...\n",
      "Processed 12900 reviews...\n",
      "Processed 13000 reviews...\n",
      "Processed 13100 reviews...\n",
      "Processed 13200 reviews...\n",
      "Processed 13300 reviews...\n",
      "Processed 13400 reviews...\n",
      "Processed 13500 reviews...\n",
      "Processed 13600 reviews...\n",
      "Processed 13700 reviews...\n",
      "Processed 13800 reviews...\n",
      "Processed 13900 reviews...\n",
      "Processed 14000 reviews...\n",
      "Processed 14100 reviews...\n",
      "Processed 14200 reviews...\n",
      "Processed 14300 reviews...\n",
      "Processed 14400 reviews...\n",
      "Processed 14500 reviews...\n",
      "Processed 14600 reviews...\n",
      "Processed 14700 reviews...\n",
      "Processed 14800 reviews...\n",
      "Processed 14900 reviews...\n",
      "Processed 15000 reviews...\n",
      "Processed 15100 reviews...\n",
      "Processed 15200 reviews...\n",
      "Processed 15300 reviews...\n",
      "Processed 15400 reviews...\n",
      "Processed 15500 reviews...\n",
      "Processed 15600 reviews...\n",
      "Processed 15700 reviews...\n",
      "Processed 15800 reviews...\n",
      "Processed 15900 reviews...\n",
      "Processed 16000 reviews...\n",
      "Processed 16100 reviews...\n",
      "Processed 16200 reviews...\n",
      "Processed 16300 reviews...\n",
      "Processed 16400 reviews...\n",
      "Processed 16500 reviews...\n",
      "Processed 16600 reviews...\n",
      "Processed 16700 reviews...\n",
      "Processed 16800 reviews...\n",
      "Processed 16900 reviews...\n",
      "Processed 17000 reviews...\n",
      "Processed 17100 reviews...\n",
      "Processed 17200 reviews...\n",
      "Processed 17300 reviews...\n",
      "Processed 17400 reviews...\n",
      "Processed 17500 reviews...\n",
      "Processed 17600 reviews...\n",
      "Processed 17700 reviews...\n",
      "Processed 17800 reviews...\n",
      "Processed 17900 reviews...\n",
      "Processed 18000 reviews...\n",
      "Processed 18100 reviews...\n",
      "Processed 18200 reviews...\n",
      "Processed 18300 reviews...\n",
      "Processed 18400 reviews...\n",
      "Processed 18500 reviews...\n",
      "Processed 18600 reviews...\n",
      "Processed 18700 reviews...\n",
      "Processed 18800 reviews...\n",
      "Processed 18900 reviews...\n",
      "Processed 19000 reviews...\n",
      "Processed 19100 reviews...\n",
      "Processed 19200 reviews...\n",
      "Processed 19300 reviews...\n",
      "Processed 19400 reviews...\n",
      "Processed 19500 reviews...\n",
      "Processed 19600 reviews...\n",
      "Processed 19700 reviews...\n",
      "Processed 19800 reviews...\n",
      "Processed 19900 reviews...\n",
      "Processed 20000 reviews...\n",
      "Processed 20100 reviews...\n",
      "Processed 20200 reviews...\n",
      "Processed 20300 reviews...\n",
      "Processed 20400 reviews...\n",
      "Processed 20500 reviews...\n",
      "Processed 20600 reviews...\n",
      "Processed 20700 reviews...\n",
      "Processed 20800 reviews...\n",
      "Processed 20900 reviews...\n",
      "Processed 21000 reviews...\n",
      "Processed 21100 reviews...\n",
      "Processed 21200 reviews...\n",
      "Processed 21300 reviews...\n",
      "Processed 21400 reviews...\n",
      "Processed 21500 reviews...\n",
      "Processed 21600 reviews...\n",
      "Processed 21700 reviews...\n",
      "Processed 21800 reviews...\n",
      "Processed 21900 reviews...\n",
      "Processing complete!\n"
     ]
    }
   ],
   "source": [
    "# Add emotion columns\n",
    "hotel_df_with_emotions = add_emotion_columns(df, review_column='hotel_review', model_name=\"joeddav/distilbert-base-uncased-go-emotions-student\")"
   ]
  },
  {
   "cell_type": "code",
   "execution_count": 56,
   "id": "41c7824e-8314-45af-9549-5c8797c25ab0",
   "metadata": {},
   "outputs": [],
   "source": [
    "df = hotel_df_with_emotions"
   ]
  },
  {
   "cell_type": "code",
   "execution_count": 57,
   "id": "4806bae2-1e42-40d7-9f1f-5b0bfbf17256",
   "metadata": {},
   "outputs": [],
   "source": [
    "def add_dominant_emotion(df):\n",
    "    # Find all emotion columns\n",
    "    emotion_cols = [col for col in df.columns if col.startswith('emotion_')]\n",
    "    \n",
    "    # Skip if no emotion columns found\n",
    "    if not emotion_cols:\n",
    "        print(\"No emotion columns found in the DataFrame\")\n",
    "        return df\n",
    "    \n",
    "    # Create a new DataFrame for storing results\n",
    "    result_df = df.copy()\n",
    "    \n",
    "    # Add dominant emotion column\n",
    "    result_df['dominant_emotion'] = result_df[emotion_cols].idxmax(axis=1)\n",
    "    \n",
    "    # Clean up the emotion name (remove 'emotion_' prefix)\n",
    "    result_df['dominant_emotion'] = result_df['dominant_emotion'].str.replace('emotion_', '')\n",
    "    \n",
    "    # Add dominant emotion score\n",
    "    result_df['dominant_emotion_score'] = result_df[emotion_cols].max(axis=1)\n",
    "    \n",
    "    return result_df"
   ]
  },
  {
   "cell_type": "code",
   "execution_count": 58,
   "id": "9f61ded7-d568-4b0b-b984-da7d25283a40",
   "metadata": {},
   "outputs": [
    {
     "name": "stdout",
     "output_type": "stream",
     "text": [
      "Found 28 emotion columns: ['emotion_admiration', 'emotion_amusement', 'emotion_anger', 'emotion_annoyance', 'emotion_approval', 'emotion_caring', 'emotion_confusion', 'emotion_curiosity', 'emotion_desire', 'emotion_disappointment', 'emotion_disapproval', 'emotion_disgust', 'emotion_embarrassment', 'emotion_excitement', 'emotion_fear', 'emotion_gratitude', 'emotion_grief', 'emotion_joy', 'emotion_love', 'emotion_nervousness', 'emotion_optimism', 'emotion_pride', 'emotion_realization', 'emotion_relief', 'emotion_remorse', 'emotion_sadness', 'emotion_surprise', 'emotion_neutral']\n"
     ]
    }
   ],
   "source": [
    "# Find all emotion columns\n",
    "emotion_cols = [col for col in df.columns if col.startswith('emotion_')]\n",
    "print(f\"Found {len(emotion_cols)} emotion columns: {emotion_cols}\")"
   ]
  },
  {
   "cell_type": "code",
   "execution_count": 59,
   "id": "f3f45df1-5f33-4651-b277-06b79ea6d5d4",
   "metadata": {},
   "outputs": [],
   "source": [
    "# Add the dominant emotion\n",
    "df = add_dominant_emotion(df)"
   ]
  },
  {
   "cell_type": "code",
   "execution_count": 60,
   "id": "a177c581-c4e7-4927-b97b-cca9e3dafae8",
   "metadata": {},
   "outputs": [
    {
     "name": "stdout",
     "output_type": "stream",
     "text": [
      "\n",
      "Distribution of dominant emotions:\n",
      "dominant_emotion\n",
      "caring            9644\n",
      "excitement        2169\n",
      "disappointment    1961\n",
      "confusion         1471\n",
      "desire            1199\n",
      "approval           994\n",
      "remorse            715\n",
      "surprise           702\n",
      "annoyance          685\n",
      "admiration         475\n",
      "gratitude          354\n",
      "relief             272\n",
      "joy                259\n",
      "curiosity          219\n",
      "disapproval        196\n",
      "realization        159\n",
      "amusement          115\n",
      "nervousness         86\n",
      "love                58\n",
      "sadness             49\n",
      "pride               48\n",
      "neutral             41\n",
      "optimism            41\n",
      "disgust             41\n",
      "anger               23\n",
      "fear                13\n",
      "embarrassment       11\n",
      "Name: count, dtype: int64\n"
     ]
    }
   ],
   "source": [
    "# Show the distribution of dominant emotions\n",
    "emotion_counts = df['dominant_emotion'].value_counts()\n",
    "print(\"\\nDistribution of dominant emotions:\")\n",
    "print(emotion_counts)"
   ]
  },
  {
   "cell_type": "code",
   "execution_count": 61,
   "id": "537e04b0-5fb4-466e-b216-a19fcc520294",
   "metadata": {},
   "outputs": [
    {
     "name": "stdout",
     "output_type": "stream",
     "text": [
      "\n",
      "Average sentiment by dominant emotion:\n",
      "dominant_emotion\n",
      "caring            0.916793\n",
      "gratitude         0.906760\n",
      "remorse           0.839439\n",
      "surprise          0.829658\n",
      "love              0.829593\n",
      "joy               0.824757\n",
      "desire            0.821239\n",
      "admiration        0.807077\n",
      "excitement        0.785669\n",
      "optimism          0.670546\n",
      "curiosity         0.640537\n",
      "relief            0.563935\n",
      "nervousness       0.548953\n",
      "approval          0.539885\n",
      "confusion         0.332382\n",
      "amusement         0.319846\n",
      "annoyance         0.253150\n",
      "neutral           0.190883\n",
      "sadness           0.180269\n",
      "pride             0.175763\n",
      "disapproval       0.116047\n",
      "realization       0.103835\n",
      "anger            -0.066613\n",
      "disappointment   -0.099797\n",
      "embarrassment    -0.101964\n",
      "fear             -0.212369\n",
      "disgust          -0.630422\n",
      "Name: sentiment, dtype: float64\n"
     ]
    }
   ],
   "source": [
    "# Calculate average sentiment by dominant emotion\n",
    "if 'sentiment' in df.columns:\n",
    "    emotion_sentiment = df.groupby('dominant_emotion')['sentiment'].mean().sort_values(ascending=False)\n",
    "    print(\"\\nAverage sentiment by dominant emotion:\")\n",
    "    print(emotion_sentiment)"
   ]
  },
  {
   "cell_type": "code",
   "execution_count": 62,
   "id": "887f7a3d-d353-4b34-ba45-64f8e7c733b7",
   "metadata": {},
   "outputs": [],
   "source": [
    "def process_existing_hotel_dataset(df):    \n",
    "    # Find all emotion columns\n",
    "    emotion_cols = [col for col in df.columns if col.startswith('emotion_')]\n",
    "    print(f\"Found {len(emotion_cols)} emotion columns: {emotion_cols}\")\n",
    "    \n",
    "    # Add the dominant emotion\n",
    "    df = add_dominant_emotion(df)\n",
    "    \n",
    "    # Show the distribution of dominant emotions\n",
    "    emotion_counts = df['dominant_emotion'].value_counts()\n",
    "    print(\"\\nDistribution of dominant emotions:\")\n",
    "    print(emotion_counts)\n",
    "    \n",
    "    # Calculate average sentiment by dominant emotion\n",
    "    if 'sentiment' in df.columns:\n",
    "        emotion_sentiment = df.groupby('dominant_emotion')['sentiment'].mean().sort_values(ascending=False)\n",
    "        print(\"\\nAverage sentiment by dominant emotion:\")\n",
    "        print(emotion_sentiment)\n",
    "    \n",
    "    return df"
   ]
  },
  {
   "cell_type": "code",
   "execution_count": 63,
   "id": "f9d60290-a8c3-4ffd-83ca-76910d05eb7c",
   "metadata": {},
   "outputs": [
    {
     "name": "stdout",
     "output_type": "stream",
     "text": [
      "Found 28 emotion columns: ['emotion_admiration', 'emotion_amusement', 'emotion_anger', 'emotion_annoyance', 'emotion_approval', 'emotion_caring', 'emotion_confusion', 'emotion_curiosity', 'emotion_desire', 'emotion_disappointment', 'emotion_disapproval', 'emotion_disgust', 'emotion_embarrassment', 'emotion_excitement', 'emotion_fear', 'emotion_gratitude', 'emotion_grief', 'emotion_joy', 'emotion_love', 'emotion_nervousness', 'emotion_optimism', 'emotion_pride', 'emotion_realization', 'emotion_relief', 'emotion_remorse', 'emotion_sadness', 'emotion_surprise', 'emotion_neutral']\n",
      "\n",
      "Distribution of dominant emotions:\n",
      "dominant_emotion\n",
      "caring            9644\n",
      "excitement        2169\n",
      "disappointment    1961\n",
      "confusion         1471\n",
      "desire            1199\n",
      "approval           994\n",
      "remorse            715\n",
      "surprise           702\n",
      "annoyance          685\n",
      "admiration         475\n",
      "gratitude          354\n",
      "relief             272\n",
      "joy                259\n",
      "curiosity          219\n",
      "disapproval        196\n",
      "realization        159\n",
      "amusement          115\n",
      "nervousness         86\n",
      "love                58\n",
      "sadness             49\n",
      "pride               48\n",
      "neutral             41\n",
      "optimism            41\n",
      "disgust             41\n",
      "anger               23\n",
      "fear                13\n",
      "embarrassment       11\n",
      "Name: count, dtype: int64\n",
      "\n",
      "Average sentiment by dominant emotion:\n",
      "dominant_emotion\n",
      "caring            0.916793\n",
      "gratitude         0.906760\n",
      "remorse           0.839439\n",
      "surprise          0.829658\n",
      "love              0.829593\n",
      "joy               0.824757\n",
      "desire            0.821239\n",
      "admiration        0.807077\n",
      "excitement        0.785669\n",
      "optimism          0.670546\n",
      "curiosity         0.640537\n",
      "relief            0.563935\n",
      "nervousness       0.548953\n",
      "approval          0.539885\n",
      "confusion         0.332382\n",
      "amusement         0.319846\n",
      "annoyance         0.253150\n",
      "neutral           0.190883\n",
      "sadness           0.180269\n",
      "pride             0.175763\n",
      "disapproval       0.116047\n",
      "realization       0.103835\n",
      "anger            -0.066613\n",
      "disappointment   -0.099797\n",
      "embarrassment    -0.101964\n",
      "fear             -0.212369\n",
      "disgust          -0.630422\n",
      "Name: sentiment, dtype: float64\n"
     ]
    }
   ],
   "source": [
    "# Use\n",
    "processed_df = process_existing_hotel_dataset(df)"
   ]
  },
  {
   "cell_type": "code",
   "execution_count": 65,
   "id": "a20adc49-7310-4ac4-8d46-0b0b3ccf3310",
   "metadata": {},
   "outputs": [
    {
     "name": "stdout",
     "output_type": "stream",
     "text": [
      "Found 28 emotion columns\n"
     ]
    }
   ],
   "source": [
    "# Already an emotion columns:\n",
    "emotion_cols = [col for col in df.columns if col.startswith('emotion_')]\n",
    "    \n",
    "if emotion_cols:\n",
    "    print(f\"Found {len(emotion_cols)} emotion columns\")\n",
    "    # Add dominant emotion if needed\n",
    "    if 'dominant_emotion' not in df.columns:\n",
    "        print(\"Adding dominant emotion column...\")\n",
    "        df['dominant_emotion'] = df[emotion_cols].idxmax(axis=1)\n",
    "        df['dominant_emotion'] = df['dominant_emotion'].str.replace('emotion_', '')\n",
    "        df['dominant_emotion_score'] = df[emotion_cols].max(axis=1)\n",
    "else:\n",
    "    print(\"No emotion columns found. You would need to run the emotion extraction model here.\")\n",
    "    # This would be where you'd call add_emotion_columns() or add_emotion_columns_batch()"
   ]
  },
  {
   "cell_type": "code",
   "execution_count": null,
   "id": "d1b75188-cfac-4780-aaeb-6ce20e7cbd04",
   "metadata": {},
   "outputs": [],
   "source": []
  },
  {
   "cell_type": "code",
   "execution_count": 66,
   "id": "ba497a14-653e-44ed-af1e-4473a363f452",
   "metadata": {},
   "outputs": [
    {
     "data": {
      "text/html": [
       "<div>\n",
       "<style scoped>\n",
       "    .dataframe tbody tr th:only-of-type {\n",
       "        vertical-align: middle;\n",
       "    }\n",
       "\n",
       "    .dataframe tbody tr th {\n",
       "        vertical-align: top;\n",
       "    }\n",
       "\n",
       "    .dataframe thead th {\n",
       "        text-align: right;\n",
       "    }\n",
       "</style>\n",
       "<table border=\"1\" class=\"dataframe\">\n",
       "  <thead>\n",
       "    <tr style=\"text-align: right;\">\n",
       "      <th></th>\n",
       "      <th>country</th>\n",
       "      <th>city</th>\n",
       "      <th>hotel</th>\n",
       "      <th>date</th>\n",
       "      <th>hotel_review</th>\n",
       "      <th>sentiment</th>\n",
       "      <th>sentiment_classification</th>\n",
       "      <th>emotion_admiration</th>\n",
       "      <th>emotion_amusement</th>\n",
       "      <th>emotion_anger</th>\n",
       "      <th>...</th>\n",
       "      <th>emotion_optimism</th>\n",
       "      <th>emotion_pride</th>\n",
       "      <th>emotion_realization</th>\n",
       "      <th>emotion_relief</th>\n",
       "      <th>emotion_remorse</th>\n",
       "      <th>emotion_sadness</th>\n",
       "      <th>emotion_surprise</th>\n",
       "      <th>emotion_neutral</th>\n",
       "      <th>dominant_emotion</th>\n",
       "      <th>dominant_emotion_score</th>\n",
       "    </tr>\n",
       "  </thead>\n",
       "  <tbody>\n",
       "    <tr>\n",
       "      <th>0</th>\n",
       "      <td>china</td>\n",
       "      <td>shanghai</td>\n",
       "      <td>park hotel shanghai</td>\n",
       "      <td>2009-11-02 00:00:00</td>\n",
       "      <td>Great Location Cheap hotel Werid smell This is...</td>\n",
       "      <td>0.9542</td>\n",
       "      <td>positive</td>\n",
       "      <td>0.027856</td>\n",
       "      <td>0.009696</td>\n",
       "      <td>0.014524</td>\n",
       "      <td>...</td>\n",
       "      <td>0.012567</td>\n",
       "      <td>0.017650</td>\n",
       "      <td>0.038016</td>\n",
       "      <td>0.018606</td>\n",
       "      <td>0.064043</td>\n",
       "      <td>0.020209</td>\n",
       "      <td>0.030800</td>\n",
       "      <td>0.017647</td>\n",
       "      <td>approval</td>\n",
       "      <td>0.094863</td>\n",
       "    </tr>\n",
       "    <tr>\n",
       "      <th>1</th>\n",
       "      <td>china</td>\n",
       "      <td>shanghai</td>\n",
       "      <td>park hotel shanghai</td>\n",
       "      <td>2009-10-22 00:00:00</td>\n",
       "      <td>Nice but half old! Hard to tell about my feeli...</td>\n",
       "      <td>0.7341</td>\n",
       "      <td>neutral</td>\n",
       "      <td>0.024485</td>\n",
       "      <td>0.011040</td>\n",
       "      <td>0.010333</td>\n",
       "      <td>...</td>\n",
       "      <td>0.008950</td>\n",
       "      <td>0.013330</td>\n",
       "      <td>0.025285</td>\n",
       "      <td>0.010557</td>\n",
       "      <td>0.047987</td>\n",
       "      <td>0.019890</td>\n",
       "      <td>0.026675</td>\n",
       "      <td>0.018214</td>\n",
       "      <td>confusion</td>\n",
       "      <td>0.156287</td>\n",
       "    </tr>\n",
       "    <tr>\n",
       "      <th>2</th>\n",
       "      <td>china</td>\n",
       "      <td>shanghai</td>\n",
       "      <td>park hotel shanghai</td>\n",
       "      <td>2009-07-30 00:00:00</td>\n",
       "      <td>Hotel with history- great location and good va...</td>\n",
       "      <td>0.9312</td>\n",
       "      <td>positive</td>\n",
       "      <td>0.055344</td>\n",
       "      <td>0.017033</td>\n",
       "      <td>0.008137</td>\n",
       "      <td>...</td>\n",
       "      <td>0.030027</td>\n",
       "      <td>0.032911</td>\n",
       "      <td>0.052427</td>\n",
       "      <td>0.041671</td>\n",
       "      <td>0.093300</td>\n",
       "      <td>0.006874</td>\n",
       "      <td>0.050032</td>\n",
       "      <td>0.028029</td>\n",
       "      <td>caring</td>\n",
       "      <td>0.114446</td>\n",
       "    </tr>\n",
       "    <tr>\n",
       "      <th>3</th>\n",
       "      <td>china</td>\n",
       "      <td>shanghai</td>\n",
       "      <td>park hotel shanghai</td>\n",
       "      <td>2009-06-03 00:00:00</td>\n",
       "      <td>Stay clear of this one Well, it is noisy.The s...</td>\n",
       "      <td>0.9289</td>\n",
       "      <td>positive</td>\n",
       "      <td>0.008891</td>\n",
       "      <td>0.007275</td>\n",
       "      <td>0.041976</td>\n",
       "      <td>...</td>\n",
       "      <td>0.006279</td>\n",
       "      <td>0.010806</td>\n",
       "      <td>0.025826</td>\n",
       "      <td>0.006490</td>\n",
       "      <td>0.035301</td>\n",
       "      <td>0.018483</td>\n",
       "      <td>0.021101</td>\n",
       "      <td>0.012475</td>\n",
       "      <td>annoyance</td>\n",
       "      <td>0.227336</td>\n",
       "    </tr>\n",
       "    <tr>\n",
       "      <th>4</th>\n",
       "      <td>china</td>\n",
       "      <td>shanghai</td>\n",
       "      <td>park hotel shanghai</td>\n",
       "      <td>2008-07-23 00:00:00</td>\n",
       "      <td>Local Insights Hmmm! A dated old hotel that ne...</td>\n",
       "      <td>-0.8268</td>\n",
       "      <td>negative</td>\n",
       "      <td>0.013321</td>\n",
       "      <td>0.014795</td>\n",
       "      <td>0.019228</td>\n",
       "      <td>...</td>\n",
       "      <td>0.009291</td>\n",
       "      <td>0.011375</td>\n",
       "      <td>0.030011</td>\n",
       "      <td>0.007618</td>\n",
       "      <td>0.055489</td>\n",
       "      <td>0.030029</td>\n",
       "      <td>0.055411</td>\n",
       "      <td>0.015120</td>\n",
       "      <td>confusion</td>\n",
       "      <td>0.108572</td>\n",
       "    </tr>\n",
       "  </tbody>\n",
       "</table>\n",
       "<p>5 rows × 37 columns</p>\n",
       "</div>"
      ],
      "text/plain": [
       "  country      city                hotel                 date  \\\n",
       "0   china  shanghai  park hotel shanghai  2009-11-02 00:00:00   \n",
       "1   china  shanghai  park hotel shanghai  2009-10-22 00:00:00   \n",
       "2   china  shanghai  park hotel shanghai  2009-07-30 00:00:00   \n",
       "3   china  shanghai  park hotel shanghai  2009-06-03 00:00:00   \n",
       "4   china  shanghai  park hotel shanghai  2008-07-23 00:00:00   \n",
       "\n",
       "                                        hotel_review  sentiment  \\\n",
       "0  Great Location Cheap hotel Werid smell This is...     0.9542   \n",
       "1  Nice but half old! Hard to tell about my feeli...     0.7341   \n",
       "2  Hotel with history- great location and good va...     0.9312   \n",
       "3  Stay clear of this one Well, it is noisy.The s...     0.9289   \n",
       "4  Local Insights Hmmm! A dated old hotel that ne...    -0.8268   \n",
       "\n",
       "  sentiment_classification  emotion_admiration  emotion_amusement  \\\n",
       "0                 positive            0.027856           0.009696   \n",
       "1                  neutral            0.024485           0.011040   \n",
       "2                 positive            0.055344           0.017033   \n",
       "3                 positive            0.008891           0.007275   \n",
       "4                 negative            0.013321           0.014795   \n",
       "\n",
       "   emotion_anger  ...  emotion_optimism  emotion_pride  emotion_realization  \\\n",
       "0       0.014524  ...          0.012567       0.017650             0.038016   \n",
       "1       0.010333  ...          0.008950       0.013330             0.025285   \n",
       "2       0.008137  ...          0.030027       0.032911             0.052427   \n",
       "3       0.041976  ...          0.006279       0.010806             0.025826   \n",
       "4       0.019228  ...          0.009291       0.011375             0.030011   \n",
       "\n",
       "   emotion_relief  emotion_remorse  emotion_sadness  emotion_surprise  \\\n",
       "0        0.018606         0.064043         0.020209          0.030800   \n",
       "1        0.010557         0.047987         0.019890          0.026675   \n",
       "2        0.041671         0.093300         0.006874          0.050032   \n",
       "3        0.006490         0.035301         0.018483          0.021101   \n",
       "4        0.007618         0.055489         0.030029          0.055411   \n",
       "\n",
       "   emotion_neutral  dominant_emotion  dominant_emotion_score  \n",
       "0         0.017647          approval                0.094863  \n",
       "1         0.018214         confusion                0.156287  \n",
       "2         0.028029            caring                0.114446  \n",
       "3         0.012475         annoyance                0.227336  \n",
       "4         0.015120         confusion                0.108572  \n",
       "\n",
       "[5 rows x 37 columns]"
      ]
     },
     "execution_count": 66,
     "metadata": {},
     "output_type": "execute_result"
    }
   ],
   "source": [
    "df.head()"
   ]
  },
  {
   "cell_type": "markdown",
   "id": "5e6c478b-1fd7-4ceb-89e5-03c8dc7fe07a",
   "metadata": {},
   "source": [
    "### 8. LDA"
   ]
  },
  {
   "cell_type": "markdown",
   "id": "5ccb623c-e895-4bc3-831d-81a686be49ca",
   "metadata": {},
   "source": [
    "Latent Dirichlet Allocation (LDA) will be used to discover topics in the hotel reviews text by modeling words as mixtures of topics."
   ]
  },
  {
   "cell_type": "code",
   "execution_count": 67,
   "id": "4be780d0-033d-43a6-bd02-0e4ed725cb97",
   "metadata": {},
   "outputs": [
    {
     "name": "stderr",
     "output_type": "stream",
     "text": [
      "[nltk_data] Downloading package punkt_tab to\n",
      "[nltk_data]     /Users/andreaespino/nltk_data...\n",
      "[nltk_data]   Package punkt_tab is already up-to-date!\n"
     ]
    },
    {
     "data": {
      "text/plain": [
       "True"
      ]
     },
     "execution_count": 67,
     "metadata": {},
     "output_type": "execute_result"
    }
   ],
   "source": [
    "nltk.download('punkt_tab')"
   ]
  },
  {
   "cell_type": "code",
   "execution_count": 68,
   "id": "43b90e7d-24c0-475a-8306-5d554e44851a",
   "metadata": {},
   "outputs": [
    {
     "name": "stderr",
     "output_type": "stream",
     "text": [
      "[nltk_data] Downloading package stopwords to\n",
      "[nltk_data]     /Users/andreaespino/nltk_data...\n",
      "[nltk_data]   Package stopwords is already up-to-date!\n",
      "[nltk_data] Downloading package wordnet to\n",
      "[nltk_data]     /Users/andreaespino/nltk_data...\n",
      "[nltk_data]   Package wordnet is already up-to-date!\n"
     ]
    },
    {
     "data": {
      "text/plain": [
       "True"
      ]
     },
     "execution_count": 68,
     "metadata": {},
     "output_type": "execute_result"
    }
   ],
   "source": [
    "# Download NLTK data (run once)\n",
    "nltk.download('stopwords')\n",
    "nltk.download('wordnet')"
   ]
  },
  {
   "cell_type": "code",
   "execution_count": 69,
   "id": "d0fd4167-d631-4ce9-a7d5-96cc24d20ed4",
   "metadata": {},
   "outputs": [
    {
     "data": {
      "text/plain": [
       "0        Great Location Cheap hotel Werid smell This is...\n",
       "1        Nice but half old! Hard to tell about my feeli...\n",
       "2        Hotel with history- great location and good va...\n",
       "3        Stay clear of this one Well it is noisy.The se...\n",
       "4        Local Insights Hmmm! A dated old hotel that ne...\n",
       "                               ...                        \n",
       "21995    Got the big things right not the little Had bo...\n",
       "21996    Small not a good deal Good location that's abo...\n",
       "21997    Better than expected We stayed in Menton Hotel...\n",
       "21998    much better than expected... I had read all th...\n",
       "21999    Don't stay there My family and I had a &quot;t...\n",
       "Name: hotel_review, Length: 22000, dtype: object"
      ]
     },
     "execution_count": 69,
     "metadata": {},
     "output_type": "execute_result"
    }
   ],
   "source": [
    "df['hotel_review'].str.replace(',', '')"
   ]
  },
  {
   "cell_type": "code",
   "execution_count": 70,
   "id": "67f317d0-2d27-49af-883e-88a5c1f6ce9e",
   "metadata": {},
   "outputs": [],
   "source": [
    "df['hotel_review'] = df['hotel_review'].str.replace(',', '')"
   ]
  },
  {
   "cell_type": "code",
   "execution_count": 71,
   "id": "6b7d9ad5-b28a-469d-a59f-2ce546420ea3",
   "metadata": {},
   "outputs": [
    {
     "data": {
      "text/plain": [
       "['the', 'idea', 'is', 'that', 'we', 'tokenise', 'everything']"
      ]
     },
     "execution_count": 71,
     "metadata": {},
     "output_type": "execute_result"
    }
   ],
   "source": [
    "nltk.word_tokenize('the idea is that we tokenise everything')"
   ]
  },
  {
   "cell_type": "code",
   "execution_count": 72,
   "id": "9339fb89-66b0-4c75-b199-d865af7c4cb6",
   "metadata": {},
   "outputs": [
    {
     "data": {
      "text/plain": [
       "0        [Great, Location, Cheap, hotel, Werid, smell, ...\n",
       "1        [Nice, but, half, old, !, Hard, to, tell, abou...\n",
       "2        [Hotel, with, history-, great, location, and, ...\n",
       "3        [Stay, clear, of, this, one, Well, it, is, noi...\n",
       "4        [Local, Insights, Hmmm, !, A, dated, old, hote...\n",
       "                               ...                        \n",
       "21995    [Got, the, big, things, right, not, the, littl...\n",
       "21996    [Small, not, a, good, deal, Good, location, th...\n",
       "21997    [Better, than, expected, We, stayed, in, Mento...\n",
       "21998    [much, better, than, expected, ..., I, had, re...\n",
       "21999    [Do, n't, stay, there, My, family, and, I, had...\n",
       "Name: hotel_review, Length: 22000, dtype: object"
      ]
     },
     "execution_count": 72,
     "metadata": {},
     "output_type": "execute_result"
    }
   ],
   "source": [
    "df['hotel_review'].apply(lambda x:  nltk.word_tokenize(x))"
   ]
  },
  {
   "cell_type": "code",
   "execution_count": 73,
   "id": "3c8e8bc6-60fe-4222-ab48-b32dcdc27a5f",
   "metadata": {},
   "outputs": [],
   "source": [
    "df['hotel_review_tok'] = df['hotel_review'].apply(lambda x:  nltk.word_tokenize(x))"
   ]
  },
  {
   "cell_type": "code",
   "execution_count": 74,
   "id": "b48e6417-3ce0-423d-83f5-b6f7786f5114",
   "metadata": {},
   "outputs": [
    {
     "data": {
      "text/plain": [
       "0        [Great, Location, Cheap, hotel, Werid, smell, ...\n",
       "1        [Nice, but, half, old, !, Hard, to, tell, abou...\n",
       "2        [Hotel, with, history-, great, location, and, ...\n",
       "3        [Stay, clear, of, this, one, Well, it, is, noi...\n",
       "4        [Local, Insights, Hmmm, !, A, dated, old, hote...\n",
       "                               ...                        \n",
       "21995    [Got, the, big, things, right, not, the, littl...\n",
       "21996    [Small, not, a, good, deal, Good, location, th...\n",
       "21997    [Better, than, expected, We, stayed, in, Mento...\n",
       "21998    [much, better, than, expected, ..., I, had, re...\n",
       "21999    [Do, n't, stay, there, My, family, and, I, had...\n",
       "Name: hotel_review_tok, Length: 22000, dtype: object"
      ]
     },
     "execution_count": 74,
     "metadata": {},
     "output_type": "execute_result"
    }
   ],
   "source": [
    "df['hotel_review_tok']"
   ]
  },
  {
   "cell_type": "code",
   "execution_count": 75,
   "id": "d233b815-3e28-48ef-840f-6c8b8f9902b1",
   "metadata": {},
   "outputs": [],
   "source": [
    "#Text preprocessing function\n",
    "def preprocess_text(text):\n",
    "    # Convert to lowercase\n",
    "    text = text.lower()\n",
    "    \n",
    "    # Remove punctuation and numbers\n",
    "    text = re.sub(r'[^\\w\\s]', '', text)\n",
    "    text = re.sub(r'\\d+', '', text)\n",
    "    \n",
    "    # Tokenize\n",
    "    tokens = text.split()\n",
    "    \n",
    "    # Remove stopwords\n",
    "    stop_words = set(stopwords.words('english'))\n",
    "    # Add hotel-specific stopwords\n",
    "    hotel_stopwords = {'hotel', 'room', 'rooms', 'stay', 'stayed'}\n",
    "    stop_words = stop_words.union(hotel_stopwords)\n",
    "    tokens = [token for token in tokens if token not in stop_words]\n",
    "    \n",
    "    # Lemmatize\n",
    "    lemmatizer = WordNetLemmatizer()\n",
    "    tokens = [lemmatizer.lemmatize(token) for token in tokens]\n",
    "    \n",
    "    return ' '.join(tokens)"
   ]
  },
  {
   "cell_type": "code",
   "execution_count": 76,
   "id": "f94ed1bd-c37d-4b0b-a500-d708a8654ef9",
   "metadata": {},
   "outputs": [],
   "source": [
    "reviews = df['hotel_review'].tolist()"
   ]
  },
  {
   "cell_type": "code",
   "execution_count": 77,
   "id": "a9115bb6-17da-4a74-a0d5-447b14ac0767",
   "metadata": {},
   "outputs": [],
   "source": [
    "# Apply preprocessing\n",
    "processed_reviews = [preprocess_text(review) for review in reviews]"
   ]
  },
  {
   "cell_type": "code",
   "execution_count": 78,
   "id": "aef01d38-e1ad-4fb3-9757-a02303a24c32",
   "metadata": {},
   "outputs": [],
   "source": [
    "# Create a document-term matrix (Bag of Words)\n",
    "vectorizer = CountVectorizer(max_df=0.95, min_df=2, max_features=1000)\n",
    "dtm = vectorizer.fit_transform(processed_reviews)"
   ]
  },
  {
   "cell_type": "code",
   "execution_count": 79,
   "id": "d2a57e77-b232-4443-9532-42ed4e325a15",
   "metadata": {},
   "outputs": [],
   "source": [
    "# Get feature names (words)\n",
    "feature_names = vectorizer.get_feature_names_out()"
   ]
  },
  {
   "cell_type": "code",
   "execution_count": 80,
   "id": "463b31fe-de59-47ca-abac-d6be5d1d23db",
   "metadata": {},
   "outputs": [],
   "source": [
    "# Apply LDA\n",
    "# Choose the number of topics\n",
    "n_topics = 3"
   ]
  },
  {
   "cell_type": "code",
   "execution_count": 81,
   "id": "fc782e87-27c6-49f6-a5ec-467d6536e629",
   "metadata": {},
   "outputs": [],
   "source": [
    "# Create and fit the LDA model\n",
    "lda_model = LatentDirichletAllocation(\n",
    "    n_components=n_topics,\n",
    "    random_state=42,\n",
    "    learning_method='online',\n",
    "    max_iter=20\n",
    ")"
   ]
  },
  {
   "cell_type": "code",
   "execution_count": 82,
   "id": "4e408f14-389b-4b0c-bdd8-6296b11af322",
   "metadata": {},
   "outputs": [],
   "source": [
    "lda_output = lda_model.fit_transform(dtm)"
   ]
  },
  {
   "cell_type": "code",
   "execution_count": 83,
   "id": "37629c0d-b6f0-471b-ac64-8b66f11835c1",
   "metadata": {},
   "outputs": [],
   "source": [
    "# Print the topics and their top words\n",
    "def print_topics(model, feature_names, n_top_words=10):\n",
    "    topics = {}\n",
    "    for topic_idx, topic in enumerate(model.components_):\n",
    "        top_words = [feature_names[i] for i in topic.argsort()[:-n_top_words - 1:-1]]\n",
    "        topics[topic_idx] = top_words\n",
    "        print(f\"Topic #{topic_idx+1}:\")\n",
    "        print(\" \".join(top_words))\n",
    "        print()\n",
    "    return topics"
   ]
  },
  {
   "cell_type": "code",
   "execution_count": 84,
   "id": "7c5badc5-9a33-49fc-94af-3951bf8fc782",
   "metadata": {},
   "outputs": [
    {
     "name": "stdout",
     "output_type": "stream",
     "text": [
      "Topic #1:\n",
      "service staff great pool restaurant food time one good would\n",
      "\n",
      "Topic #2:\n",
      "great location good nice clean staff breakfast comfortable restaurant walk\n",
      "\n",
      "Topic #3:\n",
      "night would one get time day didnt bed could like\n",
      "\n"
     ]
    }
   ],
   "source": [
    "# Show topics\n",
    "topics_dict = print_topics(lda_model, feature_names)"
   ]
  },
  {
   "cell_type": "code",
   "execution_count": 85,
   "id": "770ef02a-66d5-4bac-a093-4a1f3434dede",
   "metadata": {},
   "outputs": [],
   "source": [
    "# Visualize the topics\n",
    "# Create a DataFrame for the topic distribution in each document\n",
    "topic_distributions = lda_output\n",
    "topic_names = [f\"Topic {i+1}\" for i in range(n_topics)]\n",
    "doc_names = [f\"Review {i+1}\" for i in range(len(reviews))]\n",
    "\n",
    "df_topic_distribution = pd.DataFrame(topic_distributions, columns=topic_names, index=doc_names)"
   ]
  },
  {
   "cell_type": "code",
   "execution_count": 86,
   "id": "0c3a772f-0f5f-4432-82b6-b6f36d63dc03",
   "metadata": {},
   "outputs": [
    {
     "name": "stdout",
     "output_type": "stream",
     "text": [
      "\n",
      "Topic Distribution per Document:\n",
      "               Topic 1   Topic 2   Topic 3\n",
      "Review 1      0.009878  0.884934  0.105188\n",
      "Review 2      0.007620  0.347348  0.645032\n",
      "Review 3      0.008739  0.721618  0.269643\n",
      "Review 4      0.008385  0.222140  0.769474\n",
      "Review 5      0.007325  0.276786  0.715889\n",
      "...                ...       ...       ...\n",
      "Review 21996  0.014924  0.720403  0.264673\n",
      "Review 21997  0.031866  0.456328  0.511806\n",
      "Review 21998  0.084833  0.476348  0.438819\n",
      "Review 21999  0.016139  0.722449  0.261413\n",
      "Review 22000  0.009212  0.009148  0.981640\n",
      "\n",
      "[22000 rows x 3 columns]\n"
     ]
    }
   ],
   "source": [
    "# Display the topic distribution for each document\n",
    "print(\"\\nTopic Distribution per Document:\")\n",
    "print(df_topic_distribution)"
   ]
  },
  {
   "cell_type": "code",
   "execution_count": 87,
   "id": "4c94b15f-48cd-41b7-8140-a67f8bbe97b9",
   "metadata": {},
   "outputs": [],
   "source": [
    "# Add dominant topic to the DataFrame\n",
    "# Find the dominant topic for each review\n",
    "dominant_topic_idx = np.argmax(lda_output, axis=1)"
   ]
  },
  {
   "cell_type": "code",
   "execution_count": 88,
   "id": "904c6807-44dc-47b1-94cb-7eb10560bb35",
   "metadata": {},
   "outputs": [],
   "source": [
    "# Add the dominant topic index (0-based)\n",
    "df['dominant_topic_idx'] = dominant_topic_idx"
   ]
  },
  {
   "cell_type": "code",
   "execution_count": 89,
   "id": "720085b7-089f-48be-82df-7c85e19ae024",
   "metadata": {},
   "outputs": [],
   "source": [
    "# Add 1-based topic numbers (Topic 1, Topic 2, etc.)\n",
    "df['dominant_topic'] = dominant_topic_idx + 1"
   ]
  },
  {
   "cell_type": "code",
   "execution_count": 90,
   "id": "c9bbdfef-fe30-4e91-af31-c4c6e8aabb4e",
   "metadata": {},
   "outputs": [],
   "source": [
    "# Create a function to get the top words for each topic\n",
    "def get_topic_keywords(topic_idx, topics_dict, num_words=5):\n",
    "    return ', '.join(topics_dict[topic_idx][:num_words])"
   ]
  },
  {
   "cell_type": "code",
   "execution_count": 91,
   "id": "12358d90-99f4-4797-b8e2-515a6052f931",
   "metadata": {},
   "outputs": [],
   "source": [
    "# Add the top keywords for each dominant topic\n",
    "df['dominant_topic_keywords'] = df['dominant_topic_idx'].apply(\n",
    "    lambda x: get_topic_keywords(x, topics_dict)\n",
    ")"
   ]
  },
  {
   "cell_type": "code",
   "execution_count": 92,
   "id": "11e735dc-5bf2-41ac-a6ac-3f3a1cab64d1",
   "metadata": {},
   "outputs": [
    {
     "name": "stdout",
     "output_type": "stream",
     "text": [
      "\n",
      "DataFrame with Dominant Topic Information:\n",
      "                                            hotel_review  dominant_topic  \\\n",
      "0      Great Location Cheap hotel Werid smell This is...               2   \n",
      "1      Nice but half old! Hard to tell about my feeli...               3   \n",
      "2      Hotel with history- great location and good va...               2   \n",
      "3      Stay clear of this one Well it is noisy.The se...               3   \n",
      "4      Local Insights Hmmm! A dated old hotel that ne...               3   \n",
      "...                                                  ...             ...   \n",
      "21995  Got the big things right not the little Had bo...               2   \n",
      "21996  Small not a good deal Good location that's abo...               3   \n",
      "21997  Better than expected We stayed in Menton Hotel...               2   \n",
      "21998  much better than expected... I had read all th...               2   \n",
      "21999  Don't stay there My family and I had a &quot;t...               3   \n",
      "\n",
      "                  dominant_topic_keywords  \n",
      "0      great, location, good, nice, clean  \n",
      "1            night, would, one, get, time  \n",
      "2      great, location, good, nice, clean  \n",
      "3            night, would, one, get, time  \n",
      "4            night, would, one, get, time  \n",
      "...                                   ...  \n",
      "21995  great, location, good, nice, clean  \n",
      "21996        night, would, one, get, time  \n",
      "21997  great, location, good, nice, clean  \n",
      "21998  great, location, good, nice, clean  \n",
      "21999        night, would, one, get, time  \n",
      "\n",
      "[22000 rows x 3 columns]\n"
     ]
    }
   ],
   "source": [
    "# Display the updated DataFrame\n",
    "print(\"\\nDataFrame with Dominant Topic Information:\")\n",
    "print(df[['hotel_review', 'dominant_topic', 'dominant_topic_keywords']])"
   ]
  },
  {
   "cell_type": "code",
   "execution_count": 93,
   "id": "c95d8684-63c7-4207-ac3f-8026672caaf8",
   "metadata": {},
   "outputs": [
    {
     "data": {
      "image/png": "[encoded data removed]",
      "text/plain": [
       "<Figure size 1000x600 with 1 Axes>"
      ]
     },
     "metadata": {},
     "output_type": "display_data"
    }
   ],
   "source": [
    "# Visualize the distribution of dominant topics\n",
    "plt.figure(figsize=(10, 6))\n",
    "sns.countplot(x='dominant_topic', data=df)\n",
    "plt.title('Distribution of Dominant Topics Across Reviews')\n",
    "plt.xlabel('Topic Number')\n",
    "plt.ylabel('Number of Reviews')\n",
    "plt.show()"
   ]
  },
  {
   "cell_type": "code",
   "execution_count": 94,
   "id": "ab9489f4-b906-47cb-94e9-43a53bc65da5",
   "metadata": {},
   "outputs": [],
   "source": [
    "# Manual topic labeling\n",
    "topic_labels = {\n",
    "    0: \"Room Quality & Cleanliness\",\n",
    "    1: \"Staff & Service\", \n",
    "    2: \"Location & Amenities\"\n",
    "}"
   ]
  },
  {
   "cell_type": "code",
   "execution_count": 95,
   "id": "8e517005-8980-4f5b-b685-b0c4e1d1133f",
   "metadata": {},
   "outputs": [],
   "source": [
    "# Add labels to DataFrame\n",
    "df['topic_label'] = df['dominant_topic_idx'].map(topic_labels)"
   ]
  },
  {
   "cell_type": "code",
   "execution_count": 97,
   "id": "6dfeef42-43d4-4393-9dbb-5f61833ba562",
   "metadata": {},
   "outputs": [],
   "source": [
    "def get_topic_keyword(topic_idx, topics_dict, num_words=1):\n",
    "    return ', '.join(topics_dict[topic_idx][:num_words])"
   ]
  },
  {
   "cell_type": "code",
   "execution_count": 98,
   "id": "f5a13d79-9787-4d18-a19b-ed8238657d32",
   "metadata": {},
   "outputs": [],
   "source": [
    "df['dominant_topic_keyword'] = df['dominant_topic_idx'].apply(\n",
    "    lambda x: get_topic_keyword(x, topics_dict)\n",
    ")"
   ]
  },
  {
   "cell_type": "code",
   "execution_count": 99,
   "id": "8fc080c9-8558-400f-836d-31e14954e213",
   "metadata": {},
   "outputs": [
    {
     "data": {
      "text/html": [
       "<div>\n",
       "<style scoped>\n",
       "    .dataframe tbody tr th:only-of-type {\n",
       "        vertical-align: middle;\n",
       "    }\n",
       "\n",
       "    .dataframe tbody tr th {\n",
       "        vertical-align: top;\n",
       "    }\n",
       "\n",
       "    .dataframe thead th {\n",
       "        text-align: right;\n",
       "    }\n",
       "</style>\n",
       "<table border=\"1\" class=\"dataframe\">\n",
       "  <thead>\n",
       "    <tr style=\"text-align: right;\">\n",
       "      <th></th>\n",
       "      <th>country</th>\n",
       "      <th>city</th>\n",
       "      <th>hotel</th>\n",
       "      <th>date</th>\n",
       "      <th>hotel_review</th>\n",
       "      <th>sentiment</th>\n",
       "      <th>sentiment_classification</th>\n",
       "      <th>emotion_admiration</th>\n",
       "      <th>emotion_amusement</th>\n",
       "      <th>emotion_anger</th>\n",
       "      <th>...</th>\n",
       "      <th>emotion_surprise</th>\n",
       "      <th>emotion_neutral</th>\n",
       "      <th>dominant_emotion</th>\n",
       "      <th>dominant_emotion_score</th>\n",
       "      <th>hotel_review_tok</th>\n",
       "      <th>dominant_topic_idx</th>\n",
       "      <th>dominant_topic</th>\n",
       "      <th>dominant_topic_keywords</th>\n",
       "      <th>topic_label</th>\n",
       "      <th>dominant_topic_keyword</th>\n",
       "    </tr>\n",
       "  </thead>\n",
       "  <tbody>\n",
       "    <tr>\n",
       "      <th>0</th>\n",
       "      <td>china</td>\n",
       "      <td>shanghai</td>\n",
       "      <td>park hotel shanghai</td>\n",
       "      <td>2009-11-02 00:00:00</td>\n",
       "      <td>Great Location Cheap hotel Werid smell This is...</td>\n",
       "      <td>0.9542</td>\n",
       "      <td>positive</td>\n",
       "      <td>0.027856</td>\n",
       "      <td>0.009696</td>\n",
       "      <td>0.014524</td>\n",
       "      <td>...</td>\n",
       "      <td>0.030800</td>\n",
       "      <td>0.017647</td>\n",
       "      <td>approval</td>\n",
       "      <td>0.094863</td>\n",
       "      <td>[Great, Location, Cheap, hotel, Werid, smell, ...</td>\n",
       "      <td>1</td>\n",
       "      <td>2</td>\n",
       "      <td>great, location, good, nice, clean</td>\n",
       "      <td>Staff &amp; Service</td>\n",
       "      <td>great</td>\n",
       "    </tr>\n",
       "    <tr>\n",
       "      <th>1</th>\n",
       "      <td>china</td>\n",
       "      <td>shanghai</td>\n",
       "      <td>park hotel shanghai</td>\n",
       "      <td>2009-10-22 00:00:00</td>\n",
       "      <td>Nice but half old! Hard to tell about my feeli...</td>\n",
       "      <td>0.7341</td>\n",
       "      <td>neutral</td>\n",
       "      <td>0.024485</td>\n",
       "      <td>0.011040</td>\n",
       "      <td>0.010333</td>\n",
       "      <td>...</td>\n",
       "      <td>0.026675</td>\n",
       "      <td>0.018214</td>\n",
       "      <td>confusion</td>\n",
       "      <td>0.156287</td>\n",
       "      <td>[Nice, but, half, old, !, Hard, to, tell, abou...</td>\n",
       "      <td>2</td>\n",
       "      <td>3</td>\n",
       "      <td>night, would, one, get, time</td>\n",
       "      <td>Location &amp; Amenities</td>\n",
       "      <td>night</td>\n",
       "    </tr>\n",
       "    <tr>\n",
       "      <th>2</th>\n",
       "      <td>china</td>\n",
       "      <td>shanghai</td>\n",
       "      <td>park hotel shanghai</td>\n",
       "      <td>2009-07-30 00:00:00</td>\n",
       "      <td>Hotel with history- great location and good va...</td>\n",
       "      <td>0.9312</td>\n",
       "      <td>positive</td>\n",
       "      <td>0.055344</td>\n",
       "      <td>0.017033</td>\n",
       "      <td>0.008137</td>\n",
       "      <td>...</td>\n",
       "      <td>0.050032</td>\n",
       "      <td>0.028029</td>\n",
       "      <td>caring</td>\n",
       "      <td>0.114446</td>\n",
       "      <td>[Hotel, with, history-, great, location, and, ...</td>\n",
       "      <td>1</td>\n",
       "      <td>2</td>\n",
       "      <td>great, location, good, nice, clean</td>\n",
       "      <td>Staff &amp; Service</td>\n",
       "      <td>great</td>\n",
       "    </tr>\n",
       "    <tr>\n",
       "      <th>3</th>\n",
       "      <td>china</td>\n",
       "      <td>shanghai</td>\n",
       "      <td>park hotel shanghai</td>\n",
       "      <td>2009-06-03 00:00:00</td>\n",
       "      <td>Stay clear of this one Well it is noisy.The se...</td>\n",
       "      <td>0.9289</td>\n",
       "      <td>positive</td>\n",
       "      <td>0.008891</td>\n",
       "      <td>0.007275</td>\n",
       "      <td>0.041976</td>\n",
       "      <td>...</td>\n",
       "      <td>0.021101</td>\n",
       "      <td>0.012475</td>\n",
       "      <td>annoyance</td>\n",
       "      <td>0.227336</td>\n",
       "      <td>[Stay, clear, of, this, one, Well, it, is, noi...</td>\n",
       "      <td>2</td>\n",
       "      <td>3</td>\n",
       "      <td>night, would, one, get, time</td>\n",
       "      <td>Location &amp; Amenities</td>\n",
       "      <td>night</td>\n",
       "    </tr>\n",
       "    <tr>\n",
       "      <th>4</th>\n",
       "      <td>china</td>\n",
       "      <td>shanghai</td>\n",
       "      <td>park hotel shanghai</td>\n",
       "      <td>2008-07-23 00:00:00</td>\n",
       "      <td>Local Insights Hmmm! A dated old hotel that ne...</td>\n",
       "      <td>-0.8268</td>\n",
       "      <td>negative</td>\n",
       "      <td>0.013321</td>\n",
       "      <td>0.014795</td>\n",
       "      <td>0.019228</td>\n",
       "      <td>...</td>\n",
       "      <td>0.055411</td>\n",
       "      <td>0.015120</td>\n",
       "      <td>confusion</td>\n",
       "      <td>0.108572</td>\n",
       "      <td>[Local, Insights, Hmmm, !, A, dated, old, hote...</td>\n",
       "      <td>2</td>\n",
       "      <td>3</td>\n",
       "      <td>night, would, one, get, time</td>\n",
       "      <td>Location &amp; Amenities</td>\n",
       "      <td>night</td>\n",
       "    </tr>\n",
       "  </tbody>\n",
       "</table>\n",
       "<p>5 rows × 43 columns</p>\n",
       "</div>"
      ],
      "text/plain": [
       "  country      city                hotel                 date  \\\n",
       "0   china  shanghai  park hotel shanghai  2009-11-02 00:00:00   \n",
       "1   china  shanghai  park hotel shanghai  2009-10-22 00:00:00   \n",
       "2   china  shanghai  park hotel shanghai  2009-07-30 00:00:00   \n",
       "3   china  shanghai  park hotel shanghai  2009-06-03 00:00:00   \n",
       "4   china  shanghai  park hotel shanghai  2008-07-23 00:00:00   \n",
       "\n",
       "                                        hotel_review  sentiment  \\\n",
       "0  Great Location Cheap hotel Werid smell This is...     0.9542   \n",
       "1  Nice but half old! Hard to tell about my feeli...     0.7341   \n",
       "2  Hotel with history- great location and good va...     0.9312   \n",
       "3  Stay clear of this one Well it is noisy.The se...     0.9289   \n",
       "4  Local Insights Hmmm! A dated old hotel that ne...    -0.8268   \n",
       "\n",
       "  sentiment_classification  emotion_admiration  emotion_amusement  \\\n",
       "0                 positive            0.027856           0.009696   \n",
       "1                  neutral            0.024485           0.011040   \n",
       "2                 positive            0.055344           0.017033   \n",
       "3                 positive            0.008891           0.007275   \n",
       "4                 negative            0.013321           0.014795   \n",
       "\n",
       "   emotion_anger  ...  emotion_surprise  emotion_neutral  dominant_emotion  \\\n",
       "0       0.014524  ...          0.030800         0.017647          approval   \n",
       "1       0.010333  ...          0.026675         0.018214         confusion   \n",
       "2       0.008137  ...          0.050032         0.028029            caring   \n",
       "3       0.041976  ...          0.021101         0.012475         annoyance   \n",
       "4       0.019228  ...          0.055411         0.015120         confusion   \n",
       "\n",
       "   dominant_emotion_score                                   hotel_review_tok  \\\n",
       "0                0.094863  [Great, Location, Cheap, hotel, Werid, smell, ...   \n",
       "1                0.156287  [Nice, but, half, old, !, Hard, to, tell, abou...   \n",
       "2                0.114446  [Hotel, with, history-, great, location, and, ...   \n",
       "3                0.227336  [Stay, clear, of, this, one, Well, it, is, noi...   \n",
       "4                0.108572  [Local, Insights, Hmmm, !, A, dated, old, hote...   \n",
       "\n",
       "   dominant_topic_idx  dominant_topic             dominant_topic_keywords  \\\n",
       "0                   1               2  great, location, good, nice, clean   \n",
       "1                   2               3        night, would, one, get, time   \n",
       "2                   1               2  great, location, good, nice, clean   \n",
       "3                   2               3        night, would, one, get, time   \n",
       "4                   2               3        night, would, one, get, time   \n",
       "\n",
       "            topic_label  dominant_topic_keyword  \n",
       "0       Staff & Service                   great  \n",
       "1  Location & Amenities                   night  \n",
       "2       Staff & Service                   great  \n",
       "3  Location & Amenities                   night  \n",
       "4  Location & Amenities                   night  \n",
       "\n",
       "[5 rows x 43 columns]"
      ]
     },
     "execution_count": 99,
     "metadata": {},
     "output_type": "execute_result"
    }
   ],
   "source": [
    "df.head()"
   ]
  },
  {
   "cell_type": "code",
   "execution_count": 100,
   "id": "128c02e7-81de-4471-b9b9-50151b34694f",
   "metadata": {},
   "outputs": [],
   "source": [
    "output_csv = 'result.csv'"
   ]
  },
  {
   "cell_type": "code",
   "execution_count": 101,
   "id": "023726e0-c377-4a51-a333-e4a490a3be0a",
   "metadata": {},
   "outputs": [
    {
     "name": "stdout",
     "output_type": "stream",
     "text": [
      "Exporting to result.csv...\n",
      "Successfully exported 22000 rows to result.csv\n"
     ]
    }
   ],
   "source": [
    "print(f\"Exporting to {output_csv}...\")\n",
    "df.to_csv(output_csv, index=False)\n",
    "print(f\"Successfully exported {len(df)} rows to {output_csv}\")"
   ]
  }
 ],
 "metadata": {
  "kernelspec": {
   "display_name": "Python 3 (ipykernel)",
   "language": "python",
   "name": "python3"
  },
  "language_info": {
   "codemirror_mode": {
    "name": "ipython",
    "version": 3
   },
   "file_extension": ".py",
   "mimetype": "text/x-python",
   "name": "python",
   "nbconvert_exporter": "python",
   "pygments_lexer": "ipython3",
   "version": "3.12.4"
  }
 },
 "nbformat": 4,
 "nbformat_minor": 5
}
